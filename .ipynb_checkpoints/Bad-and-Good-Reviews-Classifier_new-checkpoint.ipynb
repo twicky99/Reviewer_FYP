{
 "cells": [
  {
   "cell_type": "code",
   "execution_count": 1,
   "id": "92c5398e",
   "metadata": {},
   "outputs": [
    {
     "name": "stderr",
     "output_type": "stream",
     "text": [
      "[nltk_data] Downloading package punkt to C:\\Users\\Laptop\n",
      "[nltk_data]     Outlet\\AppData\\Roaming\\nltk_data...\n",
      "[nltk_data]   Package punkt is already up-to-date!\n",
      "[nltk_data] Downloading package stopwords to C:\\Users\\Laptop\n",
      "[nltk_data]     Outlet\\AppData\\Roaming\\nltk_data...\n",
      "[nltk_data]   Package stopwords is already up-to-date!\n",
      "[nltk_data] Downloading package averaged_perceptron_tagger to\n",
      "[nltk_data]     C:\\Users\\Laptop Outlet\\AppData\\Roaming\\nltk_data...\n",
      "[nltk_data]   Package averaged_perceptron_tagger is already up-to-\n",
      "[nltk_data]       date!\n",
      "[nltk_data] Downloading package wordnet to C:\\Users\\Laptop\n",
      "[nltk_data]     Outlet\\AppData\\Roaming\\nltk_data...\n",
      "[nltk_data]   Package wordnet is already up-to-date!\n"
     ]
    },
    {
     "data": {
      "text/plain": [
       "True"
      ]
     },
     "execution_count": 1,
     "metadata": {},
     "output_type": "execute_result"
    }
   ],
   "source": [
    "import pandas as pd\n",
    "import numpy as np\n",
    "from nltk.stem.porter import PorterStemmer\n",
    "from nltk.corpus import stopwords\n",
    "import re\n",
    "import string\n",
    "from collections import Counter\n",
    "from imblearn.over_sampling import RandomOverSampler\n",
    "import nltk\n",
    "import seaborn as sns\n",
    "import matplotlib.pyplot as plt\n",
    "nltk.download('punkt')\n",
    "nltk.download('stopwords')\n",
    "nltk.download('averaged_perceptron_tagger')\n",
    "nltk.download('wordnet')"
   ]
  },
  {
   "cell_type": "markdown",
   "id": "7e682669",
   "metadata": {},
   "source": [
    "# DATA READING AND CREATING LABEL"
   ]
  },
  {
   "cell_type": "code",
   "execution_count": 2,
   "id": "5994e722",
   "metadata": {},
   "outputs": [],
   "source": [
    "# read data\n",
    "df = pd.read_csv(\"Hotel_Reviews.csv\")\n",
    "# append the positive and negative text reviews\n",
    "df[\"review\"] = df[\"Negative_Review\"] + df[\"Positive_Review\"]\n",
    "# create the label\n",
    "df[\"bad_review\"] = df[\"Reviewer_Score\"].apply(lambda x: 0 if x>5 else 1)\n",
    "# select only relevant columns\n",
    "df = df[[\"review\", \"bad_review\"]]"
   ]
  },
  {
   "cell_type": "code",
   "execution_count": 3,
   "id": "0850acf9",
   "metadata": {},
   "outputs": [
    {
     "data": {
      "text/html": [
       "<div>\n",
       "<style scoped>\n",
       "    .dataframe tbody tr th:only-of-type {\n",
       "        vertical-align: middle;\n",
       "    }\n",
       "\n",
       "    .dataframe tbody tr th {\n",
       "        vertical-align: top;\n",
       "    }\n",
       "\n",
       "    .dataframe thead th {\n",
       "        text-align: right;\n",
       "    }\n",
       "</style>\n",
       "<table border=\"1\" class=\"dataframe\">\n",
       "  <thead>\n",
       "    <tr style=\"text-align: right;\">\n",
       "      <th></th>\n",
       "      <th>review</th>\n",
       "      <th>bad_review</th>\n",
       "    </tr>\n",
       "  </thead>\n",
       "  <tbody>\n",
       "    <tr>\n",
       "      <th>0</th>\n",
       "      <td>I am so angry that i made this post available...</td>\n",
       "      <td>1</td>\n",
       "    </tr>\n",
       "    <tr>\n",
       "      <th>1</th>\n",
       "      <td>No Negative No real complaints the hotel was g...</td>\n",
       "      <td>0</td>\n",
       "    </tr>\n",
       "    <tr>\n",
       "      <th>2</th>\n",
       "      <td>Rooms are nice but for elderly a bit difficul...</td>\n",
       "      <td>0</td>\n",
       "    </tr>\n",
       "    <tr>\n",
       "      <th>3</th>\n",
       "      <td>My room was dirty and I was afraid to walk ba...</td>\n",
       "      <td>1</td>\n",
       "    </tr>\n",
       "    <tr>\n",
       "      <th>4</th>\n",
       "      <td>You When I booked with your company on line y...</td>\n",
       "      <td>0</td>\n",
       "    </tr>\n",
       "  </tbody>\n",
       "</table>\n",
       "</div>"
      ],
      "text/plain": [
       "                                              review  bad_review\n",
       "0   I am so angry that i made this post available...           1\n",
       "1  No Negative No real complaints the hotel was g...           0\n",
       "2   Rooms are nice but for elderly a bit difficul...           0\n",
       "3   My room was dirty and I was afraid to walk ba...           1\n",
       "4   You When I booked with your company on line y...           0"
      ]
     },
     "execution_count": 3,
     "metadata": {},
     "output_type": "execute_result"
    }
   ],
   "source": [
    "df.head()"
   ]
  },
  {
   "cell_type": "code",
   "execution_count": 4,
   "id": "e2674868",
   "metadata": {},
   "outputs": [
    {
     "data": {
      "text/plain": [
       "Counter({1: 30703, 0: 485035})"
      ]
     },
     "execution_count": 4,
     "metadata": {},
     "output_type": "execute_result"
    }
   ],
   "source": [
    "Counter(df['bad_review']) #checking counter of 0 and 1"
   ]
  },
  {
   "cell_type": "code",
   "execution_count": 5,
   "id": "4f30b7dc",
   "metadata": {},
   "outputs": [
    {
     "data": {
      "text/plain": [
       "<AxesSubplot:xlabel='bad_review', ylabel='count'>"
      ]
     },
     "execution_count": 5,
     "metadata": {},
     "output_type": "execute_result"
    },
    {
     "data": {
      "image/png": "[encoded data removed]",
      "text/plain": [
       "<Figure size 432x288 with 1 Axes>"
      ]
     },
     "metadata": {
      "needs_background": "light"
     },
     "output_type": "display_data"
    }
   ],
   "source": [
    "sns.countplot(x='bad_review',data=df) #plotting bad and good reviews count"
   ]
  },
  {
   "cell_type": "markdown",
   "id": "e715b79d",
   "metadata": {},
   "source": [
    " Total Count of words in Dataset"
   ]
  },
  {
   "cell_type": "code",
   "execution_count": 6,
   "id": "d51219ca",
   "metadata": {},
   "outputs": [
    {
     "name": "stdout",
     "output_type": "stream",
     "text": [
      "18541403\n"
     ]
    }
   ],
   "source": [
    "print(df['review'].apply(lambda x: len(x.split(' '))).sum()) #checking total words"
   ]
  },
  {
   "cell_type": "markdown",
   "id": "8020da88",
   "metadata": {},
   "source": [
    "Using NLP preprocessing Techiques, First it take word and convert in Lowercase, after that it remove special characters, then it remove extra symbol words and after that join words and use stopword function and than produce a preprocess word"
   ]
  },
  {
   "cell_type": "code",
   "execution_count": 7,
   "id": "8e1c1f40",
   "metadata": {},
   "outputs": [],
   "source": [
    "from nltk.corpus import stopwords\n",
    "special_character_remover = re.compile('[/(){}\\[\\]\\|@,;]') #remove special words\n",
    "extra_symbol_remover = re.compile('[^0-9a-z #+_]') #remove special symbols\n",
    "STOPWORDS = set(stopwords.words('english')) # using stopwords"
   ]
  },
  {
   "cell_type": "code",
   "execution_count": 8,
   "id": "31eb299d",
   "metadata": {},
   "outputs": [],
   "source": [
    "def clean_text(text): #Data cleaning function\n",
    "    text = text.lower() #lowering words\n",
    "    text = special_character_remover.sub(' ', text) #remove special words\n",
    "    text = extra_symbol_remover.sub('', text) #remove special symbols\n",
    "    text = ' '.join(word for word in text.split() if word not in STOPWORDS) # using stopwords\n",
    "    return text\n",
    "    \n",
    "df['text'] = df['review'].apply(clean_text) # applying on review column"
   ]
  },
  {
   "cell_type": "code",
   "execution_count": 9,
   "id": "515e629a",
   "metadata": {},
   "outputs": [
    {
     "data": {
      "text/html": [
       "<div>\n",
       "<style scoped>\n",
       "    .dataframe tbody tr th:only-of-type {\n",
       "        vertical-align: middle;\n",
       "    }\n",
       "\n",
       "    .dataframe tbody tr th {\n",
       "        vertical-align: top;\n",
       "    }\n",
       "\n",
       "    .dataframe thead th {\n",
       "        text-align: right;\n",
       "    }\n",
       "</style>\n",
       "<table border=\"1\" class=\"dataframe\">\n",
       "  <thead>\n",
       "    <tr style=\"text-align: right;\">\n",
       "      <th></th>\n",
       "      <th>review</th>\n",
       "      <th>bad_review</th>\n",
       "      <th>text</th>\n",
       "    </tr>\n",
       "  </thead>\n",
       "  <tbody>\n",
       "    <tr>\n",
       "      <th>0</th>\n",
       "      <td>I am so angry that i made this post available...</td>\n",
       "      <td>1</td>\n",
       "      <td>angry made post available via possible sites u...</td>\n",
       "    </tr>\n",
       "    <tr>\n",
       "      <th>1</th>\n",
       "      <td>No Negative No real complaints the hotel was g...</td>\n",
       "      <td>0</td>\n",
       "      <td>negative real complaints hotel great great loc...</td>\n",
       "    </tr>\n",
       "    <tr>\n",
       "      <th>2</th>\n",
       "      <td>Rooms are nice but for elderly a bit difficul...</td>\n",
       "      <td>0</td>\n",
       "      <td>rooms nice elderly bit difficult rooms two sto...</td>\n",
       "    </tr>\n",
       "    <tr>\n",
       "      <th>3</th>\n",
       "      <td>My room was dirty and I was afraid to walk ba...</td>\n",
       "      <td>1</td>\n",
       "      <td>room dirty afraid walk barefoot floor looked c...</td>\n",
       "    </tr>\n",
       "    <tr>\n",
       "      <th>4</th>\n",
       "      <td>You When I booked with your company on line y...</td>\n",
       "      <td>0</td>\n",
       "      <td>booked company line showed pictures room thoug...</td>\n",
       "    </tr>\n",
       "  </tbody>\n",
       "</table>\n",
       "</div>"
      ],
      "text/plain": [
       "                                              review  bad_review  \\\n",
       "0   I am so angry that i made this post available...           1   \n",
       "1  No Negative No real complaints the hotel was g...           0   \n",
       "2   Rooms are nice but for elderly a bit difficul...           0   \n",
       "3   My room was dirty and I was afraid to walk ba...           1   \n",
       "4   You When I booked with your company on line y...           0   \n",
       "\n",
       "                                                text  \n",
       "0  angry made post available via possible sites u...  \n",
       "1  negative real complaints hotel great great loc...  \n",
       "2  rooms nice elderly bit difficult rooms two sto...  \n",
       "3  room dirty afraid walk barefoot floor looked c...  \n",
       "4  booked company line showed pictures room thoug...  "
      ]
     },
     "execution_count": 9,
     "metadata": {},
     "output_type": "execute_result"
    }
   ],
   "source": [
    "df.head()"
   ]
  },
  {
   "cell_type": "markdown",
   "id": "7f9ad92f",
   "metadata": {},
   "source": [
    "Now after preprocessing its time for converting words into vector because in ML vector goes for this we are using TfidfVectorizer"
   ]
  },
  {
   "cell_type": "code",
   "execution_count": 10,
   "id": "4f8afad8",
   "metadata": {},
   "outputs": [],
   "source": [
    "from sklearn.feature_extraction.text import TfidfVectorizer\n",
    "tfidf = TfidfVectorizer(max_features=3000) #making 3000 features using tfidf"
   ]
  },
  {
   "cell_type": "markdown",
   "id": "e1756e55",
   "metadata": {},
   "source": [
    "Assigning X and Y, X will be our Vectors of words and y will be our bad_reviews column"
   ]
  },
  {
   "cell_type": "code",
   "execution_count": 11,
   "id": "9df0cd47",
   "metadata": {},
   "outputs": [],
   "source": [
    "x = tfidf.fit_transform(df['text']) ##defining features"
   ]
  },
  {
   "cell_type": "code",
   "execution_count": 12,
   "id": "1a251e34",
   "metadata": {},
   "outputs": [],
   "source": [
    "y = df['bad_review'] #defining label"
   ]
  },
  {
   "cell_type": "markdown",
   "id": "1e3e7506",
   "metadata": {},
   "source": [
    "As Data is imbalance we will increase bad reviews ratio with 50 percentage so our data become more balance"
   ]
  },
  {
   "cell_type": "code",
   "execution_count": 13,
   "id": "36929dcc",
   "metadata": {},
   "outputs": [
    {
     "data": {
      "text/plain": [
       "(515738, 3000)"
      ]
     },
     "execution_count": 13,
     "metadata": {},
     "output_type": "execute_result"
    }
   ],
   "source": [
    "x.shape"
   ]
  },
  {
   "cell_type": "code",
   "execution_count": 14,
   "id": "ed2abbe6",
   "metadata": {},
   "outputs": [
    {
     "data": {
      "text/plain": [
       "(515738,)"
      ]
     },
     "execution_count": 14,
     "metadata": {},
     "output_type": "execute_result"
    }
   ],
   "source": [
    "y.shape"
   ]
  },
  {
   "cell_type": "code",
   "execution_count": 15,
   "id": "f0fb72c3",
   "metadata": {},
   "outputs": [],
   "source": [
    "from imblearn.over_sampling import SMOTE #use for data balanceing oversampling\n",
    "oversample = SMOTE()\n",
    "x, y = oversample.fit_resample(x, y) #resample data"
   ]
  },
  {
   "cell_type": "code",
   "execution_count": 16,
   "id": "97f5d11a",
   "metadata": {},
   "outputs": [
    {
     "data": {
      "text/plain": [
       "Counter({1: 485035, 0: 485035})"
      ]
     },
     "execution_count": 16,
     "metadata": {},
     "output_type": "execute_result"
    }
   ],
   "source": [
    "Counter(y) #check count after oversampling"
   ]
  },
  {
   "cell_type": "markdown",
   "id": "db1392f2",
   "metadata": {},
   "source": [
    "# Train Test Split"
   ]
  },
  {
   "cell_type": "code",
   "execution_count": 17,
   "id": "cb7abbd2",
   "metadata": {},
   "outputs": [],
   "source": [
    "from sklearn.model_selection import train_test_split"
   ]
  },
  {
   "cell_type": "code",
   "execution_count": 18,
   "id": "ea68bce0",
   "metadata": {},
   "outputs": [],
   "source": [
    "X_train,X_test,y_train,y_test = train_test_split(x,y,test_size=0.3)"
   ]
  },
  {
   "cell_type": "markdown",
   "id": "8e3e2fab",
   "metadata": {},
   "source": [
    "# Applying different ML Models"
   ]
  },
  {
   "cell_type": "code",
   "execution_count": 19,
   "id": "bf02e2dc",
   "metadata": {},
   "outputs": [],
   "source": [
    "from sklearn.naive_bayes import BernoulliNB # using naive bayes model\n",
    "from sklearn.metrics import accuracy_score,confusion_matrix,precision_score, classification_report\n",
    "bnb = BernoulliNB()"
   ]
  },
  {
   "cell_type": "code",
   "execution_count": 20,
   "id": "3be8cb9a",
   "metadata": {},
   "outputs": [
    {
     "name": "stdout",
     "output_type": "stream",
     "text": [
      "0.764724882396803\n",
      "              precision    recall  f1-score   support\n",
      "\n",
      "           0       0.72      0.86      0.79    145554\n",
      "           1       0.83      0.67      0.74    145467\n",
      "\n",
      "    accuracy                           0.76    291021\n",
      "   macro avg       0.78      0.76      0.76    291021\n",
      "weighted avg       0.78      0.76      0.76    291021\n",
      "\n",
      "[[125496  20058]\n",
      " [ 48412  97055]]\n"
     ]
    }
   ],
   "source": [
    "bnb.fit(X_train,y_train)  #fitting model\n",
    "y_pred3 = bnb.predict(X_test) #oredicting model\n",
    "print(accuracy_score(y_test,y_pred3)) # checking accuracy score\n",
    "print(classification_report(y_test,y_pred3)) # checking classification_report\n",
    "print(confusion_matrix(y_test,y_pred3)) # checking confusion_matrix"
   ]
  },
  {
   "cell_type": "code",
   "execution_count": 21,
   "id": "33a4f879",
   "metadata": {},
   "outputs": [],
   "source": [
    "from sklearn.linear_model import LogisticRegression"
   ]
  },
  {
   "cell_type": "code",
   "execution_count": 22,
   "id": "f8b753f8",
   "metadata": {},
   "outputs": [],
   "source": [
    "model = LogisticRegression() #defining model"
   ]
  },
  {
   "cell_type": "markdown",
   "id": "b7a167ef",
   "metadata": {},
   "source": [
    "# Fine Tunning"
   ]
  },
  {
   "cell_type": "code",
   "execution_count": 23,
   "id": "b74cbb98",
   "metadata": {},
   "outputs": [],
   "source": [
    "params = [    \n",
    "    {'estimator__penalty' : ['l1', 'l2', 'elasticnet', 'none'],\n",
    "    'estimator__C' : np.logspace(-4, 4, 20),\n",
    "    'estimator__solver' : ['lbfgs','newton-cg','liblinear','sag','saga'],\n",
    "    'estimator__max_iter' : [100, 1000,2500, 5000]\n",
    "    }\n",
    "] #defining parameters which need to be applied "
   ]
  },
  {
   "cell_type": "code",
   "execution_count": 24,
   "id": "3a085ebf",
   "metadata": {},
   "outputs": [],
   "source": [
    "#from sklearn.model_selection import RandomizedSearchCV, GridSearchCV\n",
    "#clf = GridSearchCV(model, params,cv = 3, scoring='accuracy', n_jobs=1 ) #using gridview search \n",
    "#clf.fit(x, y) #fitting on x and y\n",
    "#print(clf.best_params_) #printnin bets parameters"
   ]
  },
  {
   "cell_type": "code",
   "execution_count": 25,
   "id": "208b0f59",
   "metadata": {},
   "outputs": [],
   "source": [
    "model = LogisticRegression(solver='liblinear', penalty='l1', max_iter=10) #defining model after tuning"
   ]
  },
  {
   "cell_type": "code",
   "execution_count": 26,
   "id": "bec1215e",
   "metadata": {},
   "outputs": [
    {
     "name": "stderr",
     "output_type": "stream",
     "text": [
      "C:\\Users\\Laptop Outlet\\AppData\\Local\\Programs\\Python\\Python310\\lib\\site-packages\\sklearn\\svm\\_base.py:1225: ConvergenceWarning: Liblinear failed to converge, increase the number of iterations.\n",
      "  warnings.warn(\n"
     ]
    },
    {
     "name": "stdout",
     "output_type": "stream",
     "text": [
      "0.8755038296205429\n",
      "              precision    recall  f1-score   support\n",
      "\n",
      "           0       0.90      0.84      0.87    145554\n",
      "           1       0.85      0.91      0.88    145467\n",
      "\n",
      "    accuracy                           0.88    291021\n",
      "   macro avg       0.88      0.88      0.88    291021\n",
      "weighted avg       0.88      0.88      0.88    291021\n",
      "\n",
      "[[122686  22868]\n",
      " [ 13363 132104]]\n"
     ]
    }
   ],
   "source": [
    "model = model.fit(X_train,y_train) #fitting model\n",
    "y_pred = model.predict(X_test) #oredicting model\n",
    "print(accuracy_score(y_test,y_pred)) # checking accuracy score\n",
    "print(classification_report(y_test,y_pred))  # checking classification_report\n",
    "print(confusion_matrix(y_test,y_pred)) # checking confusion_matrix"
   ]
  },
  {
   "cell_type": "code",
   "execution_count": 27,
   "id": "31eb65e5",
   "metadata": {},
   "outputs": [
    {
     "data": {
      "image/png": "[encoded data removed]",
      "text/plain": [
       "<Figure size 432x288 with 1 Axes>"
      ]
     },
     "metadata": {
      "needs_background": "light"
     },
     "output_type": "display_data"
    }
   ],
   "source": [
    "from sklearn.metrics import roc_curve\n",
    "\n",
    "fpr, tpr, thresholds = roc_curve(y_test, y_pred) #define false postive response, true  postive response and thresholds\n",
    "plt.figure(figsize=(6,4)) #plotting roc curve\n",
    "plt.plot(fpr, tpr, linewidth=2)\n",
    "plt.plot([0,1], [0,1], 'k--' )\n",
    "plt.rcParams['font.size'] = 12\n",
    "plt.title('ROC curve')\n",
    "plt.xlabel('False Positive Rate')\n",
    "plt.ylabel('True Positive Rate ')\n",
    "plt.show()"
   ]
  },
  {
   "cell_type": "code",
   "execution_count": 28,
   "id": "f2f63d54",
   "metadata": {},
   "outputs": [
    {
     "name": "stdout",
     "output_type": "stream",
     "text": [
      "ROC AUC : 0.8755\n"
     ]
    }
   ],
   "source": [
    "from sklearn.metrics import roc_auc_score\n",
    "ROC_AUC = roc_auc_score(y_test, y_pred) #evaluating roc_au_)score\n",
    "print('ROC AUC : {:.4f}'.format(ROC_AUC))"
   ]
  },
  {
   "cell_type": "markdown",
   "id": "8aaa6bad",
   "metadata": {},
   "source": [
    "We will create a function and see our model prediction on raw data"
   ]
  },
  {
   "cell_type": "code",
   "execution_count": 29,
   "id": "29361334",
   "metadata": {},
   "outputs": [],
   "source": [
    "GOOD_WORDS = [\n",
    "    'clean' ,'nice', 'wonderful', 'good', 'astonishing', 'brilliant', 'like', 'love', 'loved', 'perfect', 'excellent', 'comfortable', 'very nice', \n",
    "'very clean', 'tidy', 'very good', 'better', 'best', 'prefer', 'admire', 'adore', 'delight', 'enjoy', 'fancy', 'super', 'superb', 'pleasant', \n",
    "'love', 'relish', 'wow', 'cool', 'amazing', 'awesome', 'beautiful', 'lovely', 'sweet', 'cute', 'stunning', 'friendly', 'gorgeous', 'spacious',\n",
    "'great', 'new', 'quality', 'special', 'helpful', 'peaceful', 'pretty', 'fabulous', 'tasteful', 'tasty', 'interesting', 'comfy', 'fantastic', 'delicious', \n",
    "'huge', 'potential', 'spacious', 'fashionable', 'trendy', 'reasonable', 'impress', 'impressive', 'delightful', 'stylish', 'polite', 'luxury',\n",
    "'convenient', 'professional', 'modern'\n",
    "    \n",
    "] #hard encoding good reviews words list"
   ]
  },
  {
   "cell_type": "code",
   "execution_count": 30,
   "id": "ff771796",
   "metadata": {},
   "outputs": [],
   "source": [
    "ISSUES_CATEGORIES = {\n",
    "    'room': ['room','window', 'table' ,'mirror','door' ,'lock','key','bed','wifi', 'pillow', 'bed sheet', 'dressing table' ],\n",
    "    'food':['food', 'dish' , 'menu', 'recipe' ,'bread' ,'cooking','drink','fare','meal','meat','snack' ,'fish', 'seafood','foodstuff', 'vegetables', 'spicy', 'fruits', 'liquor', 'tea', 'coffee'],\n",
    "    'kitchen' : ['kitchen','fridge','mixer','knife','cutlery','fork', 'vegetables', 'fruits', 'spices', 'tea maker', 'coffee maker'],\n",
    "    'electrical' : ['electrical' , 'light' , 'lamp', 'fan', 'A/C', 'air conditioner', 'electronic' ,'electricity', 'TV', 'plug','socket','power','powerline','power cord','switch', 'switches', 'breaker'],\n",
    "    'washroom': ['washroom','bath','bathroom','water','toilet','restroom','bathtub','shower','hot water'],\n",
    "    'pool' : ['pool','swimming','water','swim','swimpool', 'swimming pool', 'çhlorine'],\n",
    "    'other' : ['telephone', 'alarm', 'sensor','service', 'price', 'other','others','misc','miscs','miscellaneous','miscellaneouss','music', 'band', 'musical band', 'parking' , 'cinema', 'environment'],\n",
    "    'bar' : ['drinking' , 'drink' , 'wine' , 'bar'],\n",
    "    'night club': ['night club', 'dance', 'dancing floor', 'DJ', 'music'] \n",
    "}\n",
    "\n",
    "#NEGATION_ATTRUIBUITES such as 'not' 'un' 'dis' ...\n",
    "NEGATION_ATTRUIBUITES = [\n",
    "    'not','un','dis' , \n",
    "]\n",
    "\n",
    "#NEGATION_WORDS such as 'no' 'don\\'t' 'don\\'t' ...\n",
    "NEGATION_WORDS = [\n",
    "    'no','don\\'t','don\\'t' , 'not happy' , 'issues' ,'issue' , 'doesnt' , 'not' , 'but' ,\"doesn't\", \"dont like\"\n",
    "]\n",
    "\n"
   ]
  },
  {
   "cell_type": "code",
   "execution_count": 31,
   "id": "06869938",
   "metadata": {},
   "outputs": [],
   "source": [
    "import spacy \n",
    "# Text Preprocessing Pkg\n",
    "from spacy.lang.en.stop_words import STOP_WORDS\n",
    "from string import punctuation\n",
    "# Import Heapq \n",
    "from heapq import nlargest , nsmallest\n",
    "# Build a List of Stopwords\n",
    "stopwords = list(STOP_WORDS)\n",
    "#load the english model\n",
    "nlp = spacy.load('en_core_web_sm')\n",
    "\n",
    "def clean_text(text):\n",
    "    text = text.lower()\n",
    "    text = re.sub('\\[.*?\\]', '', text)\n",
    "    text = re.sub('[%s]' % re.escape(string.punctuation), '', text)\n",
    "    text = re.sub('\\w*\\d\\w*', '', text)\n",
    "    return text\n",
    "\n",
    "def flatten_list(list_of_lists):\n",
    "    return [item for sublist in list_of_lists for item in sublist]\n",
    "\n",
    "\n",
    "#this function take issue phrase and category keyword and return the score\n",
    "def get_score_for_issue_by_category(issue , category_keywords):\n",
    "    score = 0\n",
    "    for keyword in list(set(category_keywords)):\n",
    "        if keyword in issue:\n",
    "            score += 1\n",
    "    return score\n",
    "\n",
    "\n",
    "#this function loops throw category issues and get the most scored catgory for each issue\n",
    "def get_most_scored_category(issue):\n",
    "    category_scores = {}\n",
    "    for category in ISSUES_CATEGORIES:\n",
    "        score = get_score_for_issue_by_category(issue, ISSUES_CATEGORIES[category])\n",
    "        category_scores[category] = score if score > 0 else 0\n",
    "    # return the category with the highest score using max function\n",
    "    return max(category_scores, key=category_scores.get)\n",
    "\n",
    "\n",
    "#loop throw the list of issues and for each issue loop throw ISSUES\n",
    "def identity_issues(list_of_issues):\n",
    "    issues = {\n",
    "        category : [] for category in ISSUES_CATEGORIES\n",
    "    }\n",
    "    #loop throw the list of issues and get the most scored category for each issue\n",
    "    for issue in list_of_issues:\n",
    "        most_scored_category = get_most_scored_category(issue)\n",
    "        issues[most_scored_category].append(issue)\n",
    "\n",
    "    return issues\n",
    "\n",
    "\n",
    "# text preprocessing function\n",
    "def text_summarizer(raw_docx):\n",
    "    raw_text = raw_docx\n",
    "    docx = nlp(raw_text)\n",
    "    stopwords = list(STOP_WORDS)\n",
    "    # Build Word Frequency\n",
    "    # word.text is tokenization in spacy\n",
    "    word_frequencies = {}  \n",
    "    for word in docx:  \n",
    "        if word.text not in stopwords:\n",
    "            if word.text not in word_frequencies.keys():\n",
    "                word_frequencies[word.text] = 1\n",
    "            else:\n",
    "                word_frequencies[word.text] += 1\n",
    "\n",
    "    maximum_frequncy = max(word_frequencies.values())\n",
    "\n",
    "    for word in word_frequencies.keys():  \n",
    "        word_frequencies[word] = (word_frequencies[word]/maximum_frequncy)\n",
    "    # Sentence Tokens\n",
    "    sentence_list = [ sentence for sentence in docx.sents ]\n",
    "\n",
    "    # Calculate Sentence Score and Ranking\n",
    "    sentence_scores = {}  \n",
    "    for sent in sentence_list:  \n",
    "        for word in sent:\n",
    "            if word.text.lower() in word_frequencies.keys():\n",
    "                if len(sent.text.split(' ')) < 30:\n",
    "                    if sent not in sentence_scores.keys():\n",
    "                        sentence_scores[sent] = word_frequencies[word.text.lower()]\n",
    "                    else:\n",
    "                        sentence_scores[sent] += word_frequencies[word.text.lower()]\n",
    "\n",
    "    # Find N Largest\n",
    "    summary_sentences = nlargest(10, sentence_scores, key=sentence_scores.get)\n",
    "    final_sentences = [ w.text for w in summary_sentences ]\n",
    "    summary = ' '.join(final_sentences)\n",
    "    \n",
    "    #clear summary to have one space between sentences and words and \\n\n",
    "    summary = summary.replace('\\n', ' ')\n",
    "    summary = summary.replace('\\r', ' ')\n",
    "    summary_list = summary.split(' ')\n",
    "    summary_list = [x for x in summary_list if x != '' and x != ' ']\n",
    "    summary = ' '.join(summary_list)\n",
    "\n",
    "    #split list of sentences to list of words with . or , or ? or ! or : or ;\n",
    "    punctuation = ['.' , ',' , '?' , '!' , ':' , ';']\n",
    "    list_of_issues = []\n",
    "    for char in summary:\n",
    "        if char in punctuation:\n",
    "            list_of_issues.append(summary[:summary.index(char)])\n",
    "            summary = summary[summary.index(char)+1:]\n",
    "\n",
    "    list_of_issues = [clean_text(x) for x in list_of_issues if x != '' and len(x.split(' ')) > 2]\n",
    "\n",
    "    obj = {\n",
    "        \"length\": len(summary),\n",
    "        \"list_of_issues\": list_of_issues,\n",
    "        \"list_of_issues_for_each_category\": identity_issues(list_of_issues)\n",
    "    }\n",
    "    return obj\n"
   ]
  },
  {
   "cell_type": "code",
   "execution_count": 32,
   "id": "13d770be",
   "metadata": {},
   "outputs": [],
   "source": [
    "def predict(data):\n",
    "    if any(word in data for word in NEGATION_WORDS): #encoding list for bad reviews\n",
    "        print('Bad Review')\n",
    "        text = text_summarizer(data)\n",
    "        print(text) \n",
    "    elif any(word in data for word in GOOD_WORDS):#encoding list for good reviews\n",
    "        print([data])\n",
    "        print('Good Review')\n",
    "    else:\n",
    "        in_data = [data]\n",
    "        vector_data = tfidf.transform(in_data)\n",
    "        prediction = model.predict(vector_data)\n",
    "        if prediction == 1:\n",
    "            text = text_summarizer(data)\n",
    "            print(text)\n",
    "            return  'Bad Review'\n",
    "        \n",
    "        else:\n",
    "            print([data])\n",
    "            return 'Good Review'\n",
    "            \n",
    "    \n",
    "        print(prediction)\n"
   ]
  },
  {
   "cell_type": "code",
   "execution_count": 33,
   "id": "de5d65a6",
   "metadata": {},
   "outputs": [
    {
     "name": "stdout",
     "output_type": "stream",
     "text": [
      "Bad Review\n",
      "{'length': 23, 'list_of_issues': ['this place is not good room are small'], 'list_of_issues_for_each_category': {'room': ['this place is not good room are small'], 'food': [], 'kitchen': [], 'electrical': [], 'washroom': [], 'pool': [], 'other': [], 'bar': [], 'night club': []}}\n"
     ]
    }
   ],
   "source": [
    "predict('This place is not good room are small, i dont like this place')"
   ]
  },
  {
   "cell_type": "code",
   "execution_count": 34,
   "id": "d0262c66",
   "metadata": {},
   "outputs": [
    {
     "name": "stdout",
     "output_type": "stream",
     "text": [
      "Bad Review\n",
      "{'length': 23, 'list_of_issues': ['this place is not good room are small', ' i dont like this place'], 'list_of_issues_for_each_category': {'room': ['this place is not good room are small', ' i dont like this place'], 'food': [], 'kitchen': [], 'electrical': [], 'washroom': [], 'pool': [], 'other': [], 'bar': [], 'night club': []}}\n"
     ]
    }
   ],
   "source": [
    "predict('This place is not good room are small. I dont like this place. night club is not good')"
   ]
  },
  {
   "cell_type": "code",
   "execution_count": 35,
   "id": "f951b4c7",
   "metadata": {},
   "outputs": [
    {
     "name": "stdout",
     "output_type": "stream",
     "text": [
      "['I loved this place wanted to come back here again']\n",
      "Good Review\n"
     ]
    }
   ],
   "source": [
    "predict('I loved this place wanted to come back here again')"
   ]
  },
  {
   "cell_type": "code",
   "execution_count": 36,
   "id": "e620740f",
   "metadata": {},
   "outputs": [
    {
     "name": "stdout",
     "output_type": "stream",
     "text": [
      "['I love this place this place is wonderful']\n",
      "Good Review\n"
     ]
    }
   ],
   "source": [
    "predict('I love this place this place is wonderful')"
   ]
  },
  {
   "cell_type": "code",
   "execution_count": 37,
   "id": "a12b5473",
   "metadata": {},
   "outputs": [
    {
     "name": "stdout",
     "output_type": "stream",
     "text": [
      "{'length': 0, 'list_of_issues': ['very bad hotel never staying again here'], 'list_of_issues_for_each_category': {'room': ['very bad hotel never staying again here'], 'food': [], 'kitchen': [], 'electrical': [], 'washroom': [], 'pool': [], 'other': [], 'bar': [], 'night club': []}}\n"
     ]
    },
    {
     "data": {
      "text/plain": [
       "'Bad Review'"
      ]
     },
     "execution_count": 37,
     "metadata": {},
     "output_type": "execute_result"
    }
   ],
   "source": [
    "predict('Very Bad hotel never staying again here.')"
   ]
  },
  {
   "cell_type": "code",
   "execution_count": 38,
   "id": "217823b8",
   "metadata": {},
   "outputs": [
    {
     "name": "stdout",
     "output_type": "stream",
     "text": [
      "Bad Review\n",
      "{'length': 0, 'list_of_issues': ['the room is quite smelly as well and roomboys service was terrible', ' but when talking about the hotel in our room the table lamp was broken', ' there were two issues which surprised me that could work to make the hotel perfect', ' the price is a bit high when compared to other hotels in the area', ' and the other is the food as its not tasty bad food', ' the environment of the hotel was really cool', ' huge parking space is also available which is really good', ' and therewas only cold water in bathroom', ' there was also no enough space in luggage to keep our belongings', ' but the swimming pool is pretty large and i really like that'], 'list_of_issues_for_each_category': {'room': ['the room is quite smelly as well and roomboys service was terrible', ' but when talking about the hotel in our room the table lamp was broken', ' there were two issues which surprised me that could work to make the hotel perfect', ' there was also no enough space in luggage to keep our belongings'], 'food': [' and the other is the food as its not tasty bad food'], 'kitchen': [], 'electrical': [], 'washroom': [' and therewas only cold water in bathroom'], 'pool': [' but the swimming pool is pretty large and i really like that'], 'other': [' the price is a bit high when compared to other hotels in the area', ' the environment of the hotel was really cool', ' huge parking space is also available which is really good'], 'bar': [], 'night club': []}}\n"
     ]
    }
   ],
   "source": [
    "predict('The environment of the hotel was really cool. But when talking about the hotel in our room the table lamp was broken. The room is quite smelly as well and room-boys service was terrible. And therewas only cold water in bathroom. There was also no enough space in luggage to keep our belongings. The price is a bit high when compared to other hotels in the area. But the Swimming pool is pretty large and I really like that. Huge parking space is also available which is really good. There were two issues which surprised me that could work to make the hotel perfect. One is that WIFI connection was weak sometimes. And the other is the food as its not tasty bad food. I don’t expect to come back again.')"
   ]
  },
  {
   "cell_type": "code",
   "execution_count": 39,
   "id": "50257e5a",
   "metadata": {},
   "outputs": [
    {
     "name": "stdout",
     "output_type": "stream",
     "text": [
      "Bad Review\n",
      "{'length': 17, 'list_of_issues': ['the lamp has problem and food and room are expensive', ' no pool is also present'], 'list_of_issues_for_each_category': {'room': ['the lamp has problem and food and room are expensive'], 'food': [], 'kitchen': [], 'electrical': [], 'washroom': [], 'pool': [' no pool is also present'], 'other': [], 'bar': [], 'night club': []}}\n"
     ]
    }
   ],
   "source": [
    "predict('the lamp has problem and food and room are expensive, no pool is also present. no parking space')"
   ]
  },
  {
   "cell_type": "markdown",
   "id": "f2cffcf3",
   "metadata": {},
   "source": [
    "# Single Data Prediction"
   ]
  },
  {
   "cell_type": "code",
   "execution_count": 40,
   "id": "fb6fccab",
   "metadata": {},
   "outputs": [
    {
     "data": {
      "text/plain": [
       "' Backyard of the hotel is total mess shouldn t happen in hotel with 4 stars  Good restaurant with modern design great chill out place Great park nearby the hotel and awesome main stairs '"
      ]
     },
     "execution_count": 40,
     "metadata": {},
     "output_type": "execute_result"
    }
   ],
   "source": [
    "df.review[5]"
   ]
  },
  {
   "cell_type": "code",
   "execution_count": 41,
   "id": "8b2f890d",
   "metadata": {},
   "outputs": [
    {
     "data": {
      "text/plain": [
       "0"
      ]
     },
     "execution_count": 41,
     "metadata": {},
     "output_type": "execute_result"
    }
   ],
   "source": [
    "df.bad_review[5]"
   ]
  },
  {
   "cell_type": "code",
   "execution_count": 42,
   "id": "ce8624f4",
   "metadata": {},
   "outputs": [
    {
     "name": "stdout",
     "output_type": "stream",
     "text": [
      "['Backyard of the hotel is total mess shouldn t happen in hotel with 4 stars  Good restaurant with modern design great chill out place Great park nearby the hotel and awesome main stairs']\n",
      "Good Review\n"
     ]
    }
   ],
   "source": [
    "predict('Backyard of the hotel is total mess shouldn t happen in hotel with 4 stars  Good restaurant with modern design great chill out place Great park nearby the hotel and awesome main stairs')"
   ]
  },
  {
   "cell_type": "code",
   "execution_count": 43,
   "id": "d8959687",
   "metadata": {},
   "outputs": [
    {
     "data": {
      "text/plain": [
       "' The floor in my room was filfy dirty Very basic rooms I had a 20yr old tv in my room Fridge did not work Overpriced breakfast  Comfy bed good location '"
      ]
     },
     "execution_count": 43,
     "metadata": {},
     "output_type": "execute_result"
    }
   ],
   "source": [
    "df.review[12]"
   ]
  },
  {
   "cell_type": "code",
   "execution_count": 44,
   "id": "ab12904d",
   "metadata": {},
   "outputs": [
    {
     "data": {
      "text/plain": [
       "1"
      ]
     },
     "execution_count": 44,
     "metadata": {},
     "output_type": "execute_result"
    }
   ],
   "source": [
    "df.bad_review[12]"
   ]
  },
  {
   "cell_type": "code",
   "execution_count": 45,
   "id": "997a75c9",
   "metadata": {},
   "outputs": [
    {
     "name": "stdout",
     "output_type": "stream",
     "text": [
      "Bad Review\n",
      "{'length': 0, 'list_of_issues': [], 'list_of_issues_for_each_category': {'room': [], 'food': [], 'kitchen': [], 'electrical': [], 'washroom': [], 'pool': [], 'other': [], 'bar': [], 'night club': []}}\n"
     ]
    }
   ],
   "source": [
    "predict('The floor in my room was filfy dirty Very basic rooms I had a 20yr old tv in my room Fridge did not work Overpriced breakfast, Comfy bed good location')"
   ]
  },
  {
   "cell_type": "code",
   "execution_count": 46,
   "id": "92404c92",
   "metadata": {},
   "outputs": [],
   "source": [
    "import pickle\n",
    "\n",
    "pickle.dump(tfidf,open('vectorizerGoodandBad.pkl','wb'))\n",
    "pickle.dump(model,open('modelGoodandBad.pkl','wb'))\n"
   ]
  }
 ],
 "metadata": {
  "kernelspec": {
   "display_name": "Python 3 (ipykernel)",
   "language": "python",
   "name": "python3"
  },
  "language_info": {
   "codemirror_mode": {
    "name": "ipython",
    "version": 3
   },
   "file_extension": ".py",
   "mimetype": "text/x-python",
   "name": "python",
   "nbconvert_exporter": "python",
   "pygments_lexer": "ipython3",
   "version": "3.10.6"
  }
 },
 "nbformat": 4,
 "nbformat_minor": 5
}
