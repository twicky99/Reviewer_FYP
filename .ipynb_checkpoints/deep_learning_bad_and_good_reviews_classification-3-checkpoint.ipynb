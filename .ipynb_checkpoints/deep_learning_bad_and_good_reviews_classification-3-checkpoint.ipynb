{
 "cells": [
  {
   "cell_type": "code",
   "execution_count": 1,
   "id": "hKB3abhu5WrT",
   "metadata": {
    "id": "hKB3abhu5WrT"
   },
   "outputs": [],
   "source": [
    "import pandas as pd\n",
    "import numpy as np\n",
    "import seaborn as sns\n",
    "import matplotlib.pyplot as plt\n",
    "from sklearn.model_selection import train_test_split\n",
    "from sklearn.naive_bayes import MultinomialNB\n",
    "from sklearn.metrics import accuracy_score,confusion_matrix,classification_report\n",
    "from collections import Counter\n",
    "from sklearn.feature_extraction.text import TfidfVectorizer\n",
    "from nltk.corpus import stopwords\n",
    "import re\n",
    "import nltk\n",
    "import string\n",
    "from nltk.stem.porter import PorterStemmer\n",
    "from keras.preprocessing.text import one_hot\n",
    "from keras_preprocessing.sequence import pad_sequences\n",
    "from keras.models import Sequential\n",
    "from keras.layers import Dense\n",
    "from keras.layers import Flatten ,Dropout\n",
    "from keras.layers import Embedding"
   ]
  },
  {
   "cell_type": "code",
   "execution_count": 2,
   "id": "lptPd1oU5Wtx",
   "metadata": {
    "id": "lptPd1oU5Wtx"
   },
   "outputs": [],
   "source": [
    "df = pd.read_csv(\"Hotel_Reviews.csv\")\n",
    "# append the positive and negative text reviews\n",
    "df[\"review\"] = df[\"Negative_Review\"] + df[\"Positive_Review\"]\n",
    "# create the label\n",
    "df[\"bad_review\"] = df[\"Reviewer_Score\"].apply(lambda x: 0 if x>5 else 1)\n",
    "# select only relevant columns\n",
    "df = df[[\"review\", \"bad_review\"]]"
   ]
  },
  {
   "cell_type": "code",
   "execution_count": 3,
   "id": "3kVMEBE36MWa",
   "metadata": {
    "colab": {
     "base_uri": "https://localhost:8080/",
     "height": 206
    },
    "id": "3kVMEBE36MWa",
    "outputId": "edec4552-d719-47ac-c834-5fde59498516"
   },
   "outputs": [
    {
     "data": {
      "text/html": [
       "<div>\n",
       "<style scoped>\n",
       "    .dataframe tbody tr th:only-of-type {\n",
       "        vertical-align: middle;\n",
       "    }\n",
       "\n",
       "    .dataframe tbody tr th {\n",
       "        vertical-align: top;\n",
       "    }\n",
       "\n",
       "    .dataframe thead th {\n",
       "        text-align: right;\n",
       "    }\n",
       "</style>\n",
       "<table border=\"1\" class=\"dataframe\">\n",
       "  <thead>\n",
       "    <tr style=\"text-align: right;\">\n",
       "      <th></th>\n",
       "      <th>review</th>\n",
       "      <th>bad_review</th>\n",
       "    </tr>\n",
       "  </thead>\n",
       "  <tbody>\n",
       "    <tr>\n",
       "      <th>0</th>\n",
       "      <td>I am so angry that i made this post available...</td>\n",
       "      <td>1</td>\n",
       "    </tr>\n",
       "    <tr>\n",
       "      <th>1</th>\n",
       "      <td>No Negative No real complaints the hotel was g...</td>\n",
       "      <td>0</td>\n",
       "    </tr>\n",
       "    <tr>\n",
       "      <th>2</th>\n",
       "      <td>Rooms are nice but for elderly a bit difficul...</td>\n",
       "      <td>0</td>\n",
       "    </tr>\n",
       "    <tr>\n",
       "      <th>3</th>\n",
       "      <td>My room was dirty and I was afraid to walk ba...</td>\n",
       "      <td>1</td>\n",
       "    </tr>\n",
       "    <tr>\n",
       "      <th>4</th>\n",
       "      <td>You When I booked with your company on line y...</td>\n",
       "      <td>0</td>\n",
       "    </tr>\n",
       "  </tbody>\n",
       "</table>\n",
       "</div>"
      ],
      "text/plain": [
       "                                              review  bad_review\n",
       "0   I am so angry that i made this post available...           1\n",
       "1  No Negative No real complaints the hotel was g...           0\n",
       "2   Rooms are nice but for elderly a bit difficul...           0\n",
       "3   My room was dirty and I was afraid to walk ba...           1\n",
       "4   You When I booked with your company on line y...           0"
      ]
     },
     "execution_count": 3,
     "metadata": {},
     "output_type": "execute_result"
    }
   ],
   "source": [
    "df.head()"
   ]
  },
  {
   "cell_type": "code",
   "execution_count": 4,
   "id": "FAPvaf3W6OEY",
   "metadata": {
    "colab": {
     "base_uri": "https://localhost:8080/"
    },
    "id": "FAPvaf3W6OEY",
    "outputId": "e7a97476-4d4b-48da-8567-c19c3e726949"
   },
   "outputs": [
    {
     "name": "stderr",
     "output_type": "stream",
     "text": [
      "[nltk_data] Downloading package punkt to\n",
      "[nltk_data]     C:\\Users\\HP\\AppData\\Roaming\\nltk_data...\n",
      "[nltk_data]   Package punkt is already up-to-date!\n",
      "[nltk_data] Downloading package stopwords to\n",
      "[nltk_data]     C:\\Users\\HP\\AppData\\Roaming\\nltk_data...\n",
      "[nltk_data]   Package stopwords is already up-to-date!\n",
      "[nltk_data] Downloading package averaged_perceptron_tagger to\n",
      "[nltk_data]     C:\\Users\\HP\\AppData\\Roaming\\nltk_data...\n",
      "[nltk_data]   Package averaged_perceptron_tagger is already up-to-\n",
      "[nltk_data]       date!\n",
      "[nltk_data] Downloading package wordnet to\n",
      "[nltk_data]     C:\\Users\\HP\\AppData\\Roaming\\nltk_data...\n",
      "[nltk_data]   Package wordnet is already up-to-date!\n"
     ]
    }
   ],
   "source": [
    "nltk.download('punkt')\n",
    "nltk.download('stopwords')\n",
    "nltk.download('averaged_perceptron_tagger')\n",
    "nltk.download('wordnet')\n",
    "spec_chara = re.compile('[/(){}\\[\\]\\|@,;]') # REMOVING SPECIAL CHARACTERS \n",
    "ext_sym = re.compile('[^0-9a-z #+_]') #EXTRA SYMBOLS\n",
    "st = set(stopwords.words('english')) # USING STOPWORD FUNCTION"
   ]
  },
  {
   "cell_type": "code",
   "execution_count": 5,
   "id": "IY6EVHiS6SJ0",
   "metadata": {
    "id": "IY6EVHiS6SJ0"
   },
   "outputs": [],
   "source": [
    "def clean(words): #Data cleaning function\n",
    "    words = words.lower() #Lower words in data\n",
    "    words = spec_chara.sub(' ', words) #REMOVING SPECIAL CHARACTERS  in data\n",
    "    words = ext_sym.sub('', words)#EXTRA SYMBOLS removing\n",
    "    words = ' '.join(word for word in words.split() if word not in st) #using stopwords\n",
    "    return words\n"
   ]
  },
  {
   "cell_type": "code",
   "execution_count": 56,
   "id": "H_sTSSbc6SMe",
   "metadata": {
    "id": "H_sTSSbc6SMe"
   },
   "outputs": [
    {
     "ename": "KeyError",
     "evalue": "'review'",
     "output_type": "error",
     "traceback": [
      "\u001b[1;31m---------------------------------------------------------------------------\u001b[0m",
      "\u001b[1;31mKeyError\u001b[0m                                  Traceback (most recent call last)",
      "\u001b[1;32mC:\\ProgramData\\Anaconda3\\lib\\site-packages\\pandas\\core\\indexes\\base.py\u001b[0m in \u001b[0;36mget_loc\u001b[1;34m(self, key, method, tolerance)\u001b[0m\n\u001b[0;32m   3620\u001b[0m             \u001b[1;32mtry\u001b[0m\u001b[1;33m:\u001b[0m\u001b[1;33m\u001b[0m\u001b[1;33m\u001b[0m\u001b[0m\n\u001b[1;32m-> 3621\u001b[1;33m                 \u001b[1;32mreturn\u001b[0m \u001b[0mself\u001b[0m\u001b[1;33m.\u001b[0m\u001b[0m_engine\u001b[0m\u001b[1;33m.\u001b[0m\u001b[0mget_loc\u001b[0m\u001b[1;33m(\u001b[0m\u001b[0mcasted_key\u001b[0m\u001b[1;33m)\u001b[0m\u001b[1;33m\u001b[0m\u001b[1;33m\u001b[0m\u001b[0m\n\u001b[0m\u001b[0;32m   3622\u001b[0m             \u001b[1;32mexcept\u001b[0m \u001b[0mKeyError\u001b[0m \u001b[1;32mas\u001b[0m \u001b[0merr\u001b[0m\u001b[1;33m:\u001b[0m\u001b[1;33m\u001b[0m\u001b[1;33m\u001b[0m\u001b[0m\n",
      "\u001b[1;32mC:\\ProgramData\\Anaconda3\\lib\\site-packages\\pandas\\_libs\\index.pyx\u001b[0m in \u001b[0;36mpandas._libs.index.IndexEngine.get_loc\u001b[1;34m()\u001b[0m\n",
      "\u001b[1;32mC:\\ProgramData\\Anaconda3\\lib\\site-packages\\pandas\\_libs\\index.pyx\u001b[0m in \u001b[0;36mpandas._libs.index.IndexEngine.get_loc\u001b[1;34m()\u001b[0m\n",
      "\u001b[1;32mpandas\\_libs\\hashtable_class_helper.pxi\u001b[0m in \u001b[0;36mpandas._libs.hashtable.PyObjectHashTable.get_item\u001b[1;34m()\u001b[0m\n",
      "\u001b[1;32mpandas\\_libs\\hashtable_class_helper.pxi\u001b[0m in \u001b[0;36mpandas._libs.hashtable.PyObjectHashTable.get_item\u001b[1;34m()\u001b[0m\n",
      "\u001b[1;31mKeyError\u001b[0m: 'review'",
      "\nThe above exception was the direct cause of the following exception:\n",
      "\u001b[1;31mKeyError\u001b[0m                                  Traceback (most recent call last)",
      "\u001b[1;32m~\\AppData\\Local\\Temp/ipykernel_11504/1964331637.py\u001b[0m in \u001b[0;36m<module>\u001b[1;34m\u001b[0m\n\u001b[1;32m----> 1\u001b[1;33m \u001b[0mdf\u001b[0m\u001b[1;33m[\u001b[0m\u001b[1;34m'clean'\u001b[0m\u001b[1;33m]\u001b[0m \u001b[1;33m=\u001b[0m \u001b[0mdf\u001b[0m\u001b[1;33m[\u001b[0m\u001b[1;34m'review'\u001b[0m\u001b[1;33m]\u001b[0m\u001b[1;33m.\u001b[0m\u001b[0mapply\u001b[0m\u001b[1;33m(\u001b[0m\u001b[0mclean\u001b[0m\u001b[1;33m)\u001b[0m \u001b[1;31m#cleaning text\u001b[0m\u001b[1;33m\u001b[0m\u001b[1;33m\u001b[0m\u001b[0m\n\u001b[0m",
      "\u001b[1;32mC:\\ProgramData\\Anaconda3\\lib\\site-packages\\pandas\\core\\frame.py\u001b[0m in \u001b[0;36m__getitem__\u001b[1;34m(self, key)\u001b[0m\n\u001b[0;32m   3503\u001b[0m             \u001b[1;32mif\u001b[0m \u001b[0mself\u001b[0m\u001b[1;33m.\u001b[0m\u001b[0mcolumns\u001b[0m\u001b[1;33m.\u001b[0m\u001b[0mnlevels\u001b[0m \u001b[1;33m>\u001b[0m \u001b[1;36m1\u001b[0m\u001b[1;33m:\u001b[0m\u001b[1;33m\u001b[0m\u001b[1;33m\u001b[0m\u001b[0m\n\u001b[0;32m   3504\u001b[0m                 \u001b[1;32mreturn\u001b[0m \u001b[0mself\u001b[0m\u001b[1;33m.\u001b[0m\u001b[0m_getitem_multilevel\u001b[0m\u001b[1;33m(\u001b[0m\u001b[0mkey\u001b[0m\u001b[1;33m)\u001b[0m\u001b[1;33m\u001b[0m\u001b[1;33m\u001b[0m\u001b[0m\n\u001b[1;32m-> 3505\u001b[1;33m             \u001b[0mindexer\u001b[0m \u001b[1;33m=\u001b[0m \u001b[0mself\u001b[0m\u001b[1;33m.\u001b[0m\u001b[0mcolumns\u001b[0m\u001b[1;33m.\u001b[0m\u001b[0mget_loc\u001b[0m\u001b[1;33m(\u001b[0m\u001b[0mkey\u001b[0m\u001b[1;33m)\u001b[0m\u001b[1;33m\u001b[0m\u001b[1;33m\u001b[0m\u001b[0m\n\u001b[0m\u001b[0;32m   3506\u001b[0m             \u001b[1;32mif\u001b[0m \u001b[0mis_integer\u001b[0m\u001b[1;33m(\u001b[0m\u001b[0mindexer\u001b[0m\u001b[1;33m)\u001b[0m\u001b[1;33m:\u001b[0m\u001b[1;33m\u001b[0m\u001b[1;33m\u001b[0m\u001b[0m\n\u001b[0;32m   3507\u001b[0m                 \u001b[0mindexer\u001b[0m \u001b[1;33m=\u001b[0m \u001b[1;33m[\u001b[0m\u001b[0mindexer\u001b[0m\u001b[1;33m]\u001b[0m\u001b[1;33m\u001b[0m\u001b[1;33m\u001b[0m\u001b[0m\n",
      "\u001b[1;32mC:\\ProgramData\\Anaconda3\\lib\\site-packages\\pandas\\core\\indexes\\base.py\u001b[0m in \u001b[0;36mget_loc\u001b[1;34m(self, key, method, tolerance)\u001b[0m\n\u001b[0;32m   3621\u001b[0m                 \u001b[1;32mreturn\u001b[0m \u001b[0mself\u001b[0m\u001b[1;33m.\u001b[0m\u001b[0m_engine\u001b[0m\u001b[1;33m.\u001b[0m\u001b[0mget_loc\u001b[0m\u001b[1;33m(\u001b[0m\u001b[0mcasted_key\u001b[0m\u001b[1;33m)\u001b[0m\u001b[1;33m\u001b[0m\u001b[1;33m\u001b[0m\u001b[0m\n\u001b[0;32m   3622\u001b[0m             \u001b[1;32mexcept\u001b[0m \u001b[0mKeyError\u001b[0m \u001b[1;32mas\u001b[0m \u001b[0merr\u001b[0m\u001b[1;33m:\u001b[0m\u001b[1;33m\u001b[0m\u001b[1;33m\u001b[0m\u001b[0m\n\u001b[1;32m-> 3623\u001b[1;33m                 \u001b[1;32mraise\u001b[0m \u001b[0mKeyError\u001b[0m\u001b[1;33m(\u001b[0m\u001b[0mkey\u001b[0m\u001b[1;33m)\u001b[0m \u001b[1;32mfrom\u001b[0m \u001b[0merr\u001b[0m\u001b[1;33m\u001b[0m\u001b[1;33m\u001b[0m\u001b[0m\n\u001b[0m\u001b[0;32m   3624\u001b[0m             \u001b[1;32mexcept\u001b[0m \u001b[0mTypeError\u001b[0m\u001b[1;33m:\u001b[0m\u001b[1;33m\u001b[0m\u001b[1;33m\u001b[0m\u001b[0m\n\u001b[0;32m   3625\u001b[0m                 \u001b[1;31m# If we have a listlike key, _check_indexing_error will raise\u001b[0m\u001b[1;33m\u001b[0m\u001b[1;33m\u001b[0m\u001b[0m\n",
      "\u001b[1;31mKeyError\u001b[0m: 'review'"
     ]
    }
   ],
   "source": [
    "df['clean'] = df['review'].apply(clean) #cleaning text"
   ]
  },
  {
   "cell_type": "code",
   "execution_count": 7,
   "id": "UwrpUeFO6SPr",
   "metadata": {
    "colab": {
     "base_uri": "https://localhost:8080/",
     "height": 206
    },
    "id": "UwrpUeFO6SPr",
    "outputId": "39e8944e-dd17-4264-b13d-584d18ea1ff1"
   },
   "outputs": [
    {
     "data": {
      "text/html": [
       "<div>\n",
       "<style scoped>\n",
       "    .dataframe tbody tr th:only-of-type {\n",
       "        vertical-align: middle;\n",
       "    }\n",
       "\n",
       "    .dataframe tbody tr th {\n",
       "        vertical-align: top;\n",
       "    }\n",
       "\n",
       "    .dataframe thead th {\n",
       "        text-align: right;\n",
       "    }\n",
       "</style>\n",
       "<table border=\"1\" class=\"dataframe\">\n",
       "  <thead>\n",
       "    <tr style=\"text-align: right;\">\n",
       "      <th></th>\n",
       "      <th>bad_review</th>\n",
       "      <th>clean</th>\n",
       "    </tr>\n",
       "  </thead>\n",
       "  <tbody>\n",
       "    <tr>\n",
       "      <th>0</th>\n",
       "      <td>1</td>\n",
       "      <td>angry made post available via possible sites u...</td>\n",
       "    </tr>\n",
       "    <tr>\n",
       "      <th>1</th>\n",
       "      <td>0</td>\n",
       "      <td>negative real complaints hotel great great loc...</td>\n",
       "    </tr>\n",
       "    <tr>\n",
       "      <th>2</th>\n",
       "      <td>0</td>\n",
       "      <td>rooms nice elderly bit difficult rooms two sto...</td>\n",
       "    </tr>\n",
       "    <tr>\n",
       "      <th>3</th>\n",
       "      <td>1</td>\n",
       "      <td>room dirty afraid walk barefoot floor looked c...</td>\n",
       "    </tr>\n",
       "    <tr>\n",
       "      <th>4</th>\n",
       "      <td>0</td>\n",
       "      <td>booked company line showed pictures room thoug...</td>\n",
       "    </tr>\n",
       "  </tbody>\n",
       "</table>\n",
       "</div>"
      ],
      "text/plain": [
       "   bad_review                                              clean\n",
       "0           1  angry made post available via possible sites u...\n",
       "1           0  negative real complaints hotel great great loc...\n",
       "2           0  rooms nice elderly bit difficult rooms two sto...\n",
       "3           1  room dirty afraid walk barefoot floor looked c...\n",
       "4           0  booked company line showed pictures room thoug..."
      ]
     },
     "execution_count": 7,
     "metadata": {},
     "output_type": "execute_result"
    }
   ],
   "source": [
    "df.head()"
   ]
  },
  {
   "cell_type": "code",
   "execution_count": 8,
   "id": "QlsV56I_5WwG",
   "metadata": {
    "id": "QlsV56I_5WwG"
   },
   "outputs": [],
   "source": [
    "voc_size=10000 #giving voc size\n",
    "embedded_sentences=[one_hot(words,voc_size)for words in df.clean]  # embedding sent and one hot encoding them"
   ]
  },
  {
   "cell_type": "code",
   "execution_count": 9,
   "id": "ino4sAHQ6SSn",
   "metadata": {
    "colab": {
     "base_uri": "https://localhost:8080/"
    },
    "id": "ino4sAHQ6SSn",
    "outputId": "9edc65e9-719c-4689-cb50-7d731c92d892"
   },
   "outputs": [
    {
     "name": "stdout",
     "output_type": "stream",
     "text": [
      "[7837, 3351, 9846, 4393, 4605, 3351, 6418, 7373, 5396, 6364, 6768, 4449, 6925, 3819, 2729, 6925, 6813, 225, 3351, 8377, 1631, 7161]\n"
     ]
    }
   ],
   "source": [
    "print(embedded_sentences[5])"
   ]
  },
  {
   "cell_type": "code",
   "execution_count": 10,
   "id": "oTjBTefn7NjR",
   "metadata": {
    "id": "oTjBTefn7NjR"
   },
   "outputs": [],
   "source": [
    "corpus = df[\"clean\"]\n",
    "\n",
    "## create list of lists of unigrams\n",
    "lst_corpus = []\n",
    "for string in corpus:\n",
    "    lst_words = string.split()\n",
    "    lst_grams = [\" \".join(lst_words[i:i+1]) \n",
    "                 for i in range(0, len(lst_words), 1)]\n",
    "    lst_corpus.append(lst_grams)"
   ]
  },
  {
   "cell_type": "code",
   "execution_count": 11,
   "id": "Yz8eXK806SVd",
   "metadata": {
    "id": "Yz8eXK806SVd"
   },
   "outputs": [],
   "source": [
    "from nltk.tokenize import word_tokenize\n",
    "\n",
    "word_count = lambda sentence: len(word_tokenize(sentence)) #total words\n",
    "longest_sentence = max(corpus, key=word_count) #long sent \n",
    "length_long_sentence = len(word_tokenize(longest_sentence))"
   ]
  },
  {
   "cell_type": "code",
   "execution_count": 12,
   "id": "mzUu08Et5W0S",
   "metadata": {
    "colab": {
     "base_uri": "https://localhost:8080/"
    },
    "id": "mzUu08Et5W0S",
    "outputId": "96ca63b4-8d44-4db1-a65c-cade9098d614"
   },
   "outputs": [
    {
     "data": {
      "text/plain": [
       "381"
      ]
     },
     "execution_count": 12,
     "metadata": {},
     "output_type": "execute_result"
    }
   ],
   "source": [
    "length_long_sentence"
   ]
  },
  {
   "cell_type": "code",
   "execution_count": 13,
   "id": "VpsGovqe5W28",
   "metadata": {
    "colab": {
     "base_uri": "https://localhost:8080/"
    },
    "id": "VpsGovqe5W28",
    "outputId": "64c88d29-2dbd-4f06-bbfa-55c72c92c240"
   },
   "outputs": [
    {
     "name": "stdout",
     "output_type": "stream",
     "text": [
      "[[   0    0    0 ...  666 3351 8354]\n",
      " [   0    0    0 ... 5054  562 5263]\n",
      " [   0    0    0 ...  584 3651 5054]\n",
      " ...\n",
      " [   0    0    0 ... 7608 2367 3163]\n",
      " [   0    0    0 ... 7304 8680 6508]\n",
      " [   0    0    0 ... 6158 8770 4308]]\n"
     ]
    }
   ],
   "source": [
    "embedded_docs=pad_sequences(embedded_sentences,padding='pre',maxlen=length_long_sentence) #prepadding making data for keras model\n",
    "print(embedded_docs)"
   ]
  },
  {
   "cell_type": "code",
   "execution_count": 14,
   "id": "JZ07sYjN5W5p",
   "metadata": {
    "id": "JZ07sYjN5W5p"
   },
   "outputs": [],
   "source": [
    "X = embedded_docs  #define x and y\n",
    "y = df['bad_review']"
   ]
  },
  {
   "cell_type": "code",
   "execution_count": 15,
   "id": "zm_qvdx15W8b",
   "metadata": {
    "colab": {
     "base_uri": "https://localhost:8080/"
    },
    "id": "zm_qvdx15W8b",
    "outputId": "35741cb0-3239-4e8c-a8c3-a85e233fe895"
   },
   "outputs": [
    {
     "name": "stdout",
     "output_type": "stream",
     "text": [
      "Counter({1: 485035, 0: 485035})\n"
     ]
    }
   ],
   "source": [
    "from imblearn.over_sampling import SMOTE\n",
    "\n",
    "oversample = SMOTE() #oversampling as data is imbalance\n",
    "X, y = oversample.fit_resample(X, y) #fit and resampling oversampling\n",
    "counter = Counter(y) #seeing count after resample\n",
    "print(counter)"
   ]
  },
  {
   "cell_type": "code",
   "execution_count": 16,
   "id": "ORXw1mdi5XEZ",
   "metadata": {
    "id": "ORXw1mdi5XEZ"
   },
   "outputs": [],
   "source": [
    "from sklearn.model_selection import train_test_split #splitting train test\n",
    "X_train, X_test, y_train, y_test = train_test_split( X, y, test_size=0.3, random_state=42)"
   ]
  },
  {
   "cell_type": "markdown",
   "id": "f7181a55",
   "metadata": {
    "id": "f7181a55"
   },
   "source": [
    "# Model"
   ]
  },
  {
   "cell_type": "code",
   "execution_count": 17,
   "id": "hVR0Ueij5W_O",
   "metadata": {
    "id": "hVR0Ueij5W_O"
   },
   "outputs": [],
   "source": [
    "model = Sequential() #making keras deep learning model structure\n",
    "model.add(Embedding(voc_size, 20, input_length=length_long_sentence))\n",
    "model.add(Flatten())\n",
    "model.add(Dropout(0.5))\n",
    "model.add(Dense(1, activation='sigmoid'))"
   ]
  },
  {
   "cell_type": "code",
   "execution_count": 18,
   "id": "RN9ji5ET5XCG",
   "metadata": {
    "colab": {
     "base_uri": "https://localhost:8080/"
    },
    "id": "RN9ji5ET5XCG",
    "outputId": "9461a8b3-0a2b-4fd3-cc74-f5212b02dd0d"
   },
   "outputs": [
    {
     "name": "stdout",
     "output_type": "stream",
     "text": [
      "Model: \"sequential\"\n",
      "_________________________________________________________________\n",
      " Layer (type)                Output Shape              Param #   \n",
      "=================================================================\n",
      " embedding (Embedding)       (None, 381, 20)           200000    \n",
      "                                                                 \n",
      " flatten (Flatten)           (None, 7620)              0         \n",
      "                                                                 \n",
      " dropout (Dropout)           (None, 7620)              0         \n",
      "                                                                 \n",
      " dense (Dense)               (None, 1)                 7621      \n",
      "                                                                 \n",
      "=================================================================\n",
      "Total params: 207,621\n",
      "Trainable params: 207,621\n",
      "Non-trainable params: 0\n",
      "_________________________________________________________________\n",
      "None\n"
     ]
    }
   ],
   "source": [
    "model.compile(optimizer='adam', loss='binary_crossentropy', metrics=['acc']) #compiling model\n",
    "print(model.summary())"
   ]
  },
  {
   "cell_type": "code",
   "execution_count": 19,
   "id": "PniTtBCr5XHX",
   "metadata": {
    "id": "PniTtBCr5XHX"
   },
   "outputs": [],
   "source": [
    "from keras.callbacks import ModelCheckpoint, EarlyStopping\n",
    "\n",
    "checkpoint_path = 'my_best_model.hdf5' #saving best weights \n",
    "\n",
    "checkpoint = ModelCheckpoint(filepath=checkpoint_path, monitor='val_acc',verbose=1, save_best_only=True,mode='max') #saving best model\n",
    "\n",
    "earlystopping = EarlyStopping(monitor='val_acc', patience=2, restore_best_weights=True)  #defining patience if val_acc dont increase consisitenly in two epochs model stops\n",
    "\n",
    "callbacks = [checkpoint, earlystopping]"
   ]
  },
  {
   "cell_type": "code",
   "execution_count": 20,
   "id": "OPAWFLOP5XKn",
   "metadata": {
    "colab": {
     "base_uri": "https://localhost:8080/"
    },
    "id": "OPAWFLOP5XKn",
    "outputId": "e6c72857-e2f2-4f91-fe4e-923da56d9e70"
   },
   "outputs": [
    {
     "name": "stdout",
     "output_type": "stream",
     "text": [
      "Epoch 1/5\n",
      "679/680 [============================>.] - ETA: 0s - loss: 0.2065 - acc: 0.9229\n",
      "Epoch 1: val_acc improved from -inf to 0.95493, saving model to my_best_model.hdf5\n",
      "680/680 [==============================] - 148s 217ms/step - loss: 0.2065 - acc: 0.9229 - val_loss: 0.1278 - val_acc: 0.9549\n",
      "Epoch 2/5\n",
      "679/680 [============================>.] - ETA: 0s - loss: 0.1228 - acc: 0.9547\n",
      "Epoch 2: val_acc improved from 0.95493 to 0.95802, saving model to my_best_model.hdf5\n",
      "680/680 [==============================] - 146s 215ms/step - loss: 0.1228 - acc: 0.9547 - val_loss: 0.1162 - val_acc: 0.9580\n",
      "Epoch 3/5\n",
      "679/680 [============================>.] - ETA: 0s - loss: 0.1131 - acc: 0.9587\n",
      "Epoch 3: val_acc improved from 0.95802 to 0.95960, saving model to my_best_model.hdf5\n",
      "680/680 [==============================] - 140s 206ms/step - loss: 0.1131 - acc: 0.9587 - val_loss: 0.1108 - val_acc: 0.9596\n",
      "Epoch 4/5\n",
      "679/680 [============================>.] - ETA: 0s - loss: 0.1081 - acc: 0.9605\n",
      "Epoch 4: val_acc improved from 0.95960 to 0.96009, saving model to my_best_model.hdf5\n",
      "680/680 [==============================] - 137s 201ms/step - loss: 0.1081 - acc: 0.9605 - val_loss: 0.1097 - val_acc: 0.9601\n",
      "Epoch 5/5\n",
      "679/680 [============================>.] - ETA: 0s - loss: 0.1054 - acc: 0.9614\n",
      "Epoch 5: val_acc did not improve from 0.96009\n",
      "680/680 [==============================] - 150s 221ms/step - loss: 0.1054 - acc: 0.9614 - val_loss: 0.1088 - val_acc: 0.9601\n"
     ]
    }
   ],
   "source": [
    "history = model.fit(X_train, y_train, batch_size =1000, epochs = 5, verbose=1, shuffle=False, validation_data=(X_test, y_test), callbacks=callbacks)# fitting model"
   ]
  },
  {
   "cell_type": "code",
   "execution_count": 21,
   "id": "Bz6uKceQ5XMr",
   "metadata": {
    "colab": {
     "base_uri": "https://localhost:8080/",
     "height": 445
    },
    "id": "Bz6uKceQ5XMr",
    "outputId": "5f41fb40-348b-412e-b6dc-5c972d15c9e7"
   },
   "outputs": [
    {
     "data": {
      "text/plain": [
       "<matplotlib.legend.Legend at 0x25934de9eb0>"
      ]
     },
     "execution_count": 21,
     "metadata": {},
     "output_type": "execute_result"
    },
    {
     "data": {
      "image/png": "[encoded data removed]",
      "text/plain": [
       "<Figure size 1152x504 with 1 Axes>"
      ]
     },
     "metadata": {
      "needs_background": "light"
     },
     "output_type": "display_data"
    }
   ],
   "source": [
    "plt.figure(figsize=(16,7)) #plotting loss plot of keras model\n",
    "plt.plot(history.history[\"loss\"], label= \"train loss\")\n",
    "plt.plot(history.history[\"val_loss\"], label= \"validation loss\")\n",
    "plt.legend()"
   ]
  },
  {
   "cell_type": "code",
   "execution_count": 22,
   "id": "66-SOreR8DqN",
   "metadata": {
    "id": "66-SOreR8DqN"
   },
   "outputs": [
    {
     "name": "stdout",
     "output_type": "stream",
     "text": [
      "9095/9095 [==============================] - 17s 2ms/step\n"
     ]
    }
   ],
   "source": [
    "y_pred = np.where(model.predict(X_test)>.5,1,0) #converting prediction into 1 and 0"
   ]
  },
  {
   "cell_type": "code",
   "execution_count": 23,
   "id": "nRVibNgi8Ds_",
   "metadata": {
    "colab": {
     "base_uri": "https://localhost:8080/"
    },
    "id": "nRVibNgi8Ds_",
    "outputId": "283afa6f-10cd-4105-ffba-d3482f037bac"
   },
   "outputs": [
    {
     "name": "stdout",
     "output_type": "stream",
     "text": [
      "              precision    recall  f1-score   support\n",
      "\n",
      "           0       0.98      0.94      0.96    150563\n",
      "           1       0.94      0.98      0.96    140458\n",
      "\n",
      "    accuracy                           0.96    291021\n",
      "   macro avg       0.96      0.96      0.96    291021\n",
      "weighted avg       0.96      0.96      0.96    291021\n",
      "\n"
     ]
    }
   ],
   "source": [
    "from sklearn.metrics import classification_report, confusion_matrix #making classification report od our prediction and real labels\n",
    "print(classification_report(y_pred, y_test)) "
   ]
  },
  {
   "cell_type": "code",
   "execution_count": 24,
   "id": "X_U675TI8Dv3",
   "metadata": {
    "colab": {
     "base_uri": "https://localhost:8080/"
    },
    "id": "X_U675TI8Dv3",
    "outputId": "0a1ba28b-456e-45eb-e5db-8e8183d2da8f"
   },
   "outputs": [
    {
     "data": {
      "text/plain": [
       "array([[142261,   3314],\n",
       "       [  8302, 137144]], dtype=int64)"
      ]
     },
     "execution_count": 24,
     "metadata": {},
     "output_type": "execute_result"
    }
   ],
   "source": [
    "cfm = confusion_matrix(y_test,y_pred) #making confusion_matrix od our presiction and real labels\n",
    "cfm"
   ]
  },
  {
   "cell_type": "code",
   "execution_count": 25,
   "id": "cb1bc63e",
   "metadata": {
    "colab": {
     "base_uri": "https://localhost:8080/",
     "height": 296
    },
    "id": "cb1bc63e",
    "outputId": "c31fed93-dcd5-4274-a8d8-f7b6a58b3338"
   },
   "outputs": [
    {
     "data": {
      "image/png": "[encoded data removed]",
      "text/plain": [
       "<Figure size 432x288 with 1 Axes>"
      ]
     },
     "metadata": {
      "needs_background": "light"
     },
     "output_type": "display_data"
    }
   ],
   "source": [
    "from sklearn.metrics import roc_curve, roc_auc_score\n",
    "from sklearn.metrics import roc_curve\n",
    "\n",
    "fpr, tpr, thresholds = roc_curve(y_test, y_pred)\n",
    "plt.figure(figsize=(6,4))\n",
    "plt.plot(fpr, tpr, linewidth=2)\n",
    "plt.plot([0,1], [0,1], 'k--' )\n",
    "plt.rcParams['font.size'] = 12\n",
    "plt.title('ROC curve')\n",
    "plt.xlabel('False Positive Rate')\n",
    "plt.ylabel('True Positive Rate ')\n",
    "plt.show()"
   ]
  },
  {
   "cell_type": "code",
   "execution_count": 26,
   "id": "zzfpjwHNGmZv",
   "metadata": {
    "colab": {
     "base_uri": "https://localhost:8080/"
    },
    "id": "zzfpjwHNGmZv",
    "outputId": "a06ac380-2bae-4acb-b7fd-094a1e3a435a"
   },
   "outputs": [
    {
     "name": "stdout",
     "output_type": "stream",
     "text": [
      "ROC AUC : 0.9601\n"
     ]
    }
   ],
   "source": [
    "from sklearn.metrics import roc_auc_score\n",
    "ROC_AUC = roc_auc_score(y_test, y_pred)\n",
    "print('ROC AUC : {:.4f}'.format(ROC_AUC))"
   ]
  },
  {
   "cell_type": "markdown",
   "id": "28062dbd",
   "metadata": {
    "id": "28062dbd"
   },
   "source": [
    "# Making prediction Function\n",
    "Now we will test or model on raw reviews and see its working"
   ]
  },
  {
   "cell_type": "code",
   "execution_count": 27,
   "id": "d3b2afa5",
   "metadata": {
    "id": "d3b2afa5"
   },
   "outputs": [],
   "source": [
    "from numpy.random import seed\n",
    "seed(42)\n",
    "from keras.backend import manual_variable_initialization \n",
    "manual_variable_initialization(True)\n",
    "import tensorflow\n",
    "model = tensorflow.keras.models.load_model('my_best_model.hdf5')"
   ]
  },
  {
   "cell_type": "code",
   "execution_count": 28,
   "id": "a45415c4",
   "metadata": {
    "id": "a45415c4"
   },
   "outputs": [],
   "source": [
    "GOOD_WORDS = [\n",
    "    'clean' ,'nice', 'wonderful', 'good', 'astonishing', 'brilliant', 'like', 'love', 'loved', 'perfect', 'excellent', 'comfortable', 'very nice', \n",
    "'very clean', 'tidy', 'very good', 'better', 'best', 'prefer', 'admire', 'adore', 'delight', 'enjoy', 'fancy', 'super', 'superb', 'pleasant', \n",
    "'love', 'relish', 'wow', 'cool', 'amazing', 'awesome', 'beautiful', 'lovely', 'sweet', 'cute', 'stunning', 'friendly', 'gorgeous', 'spacious',\n",
    "'great', 'new', 'quality', 'special', 'helpful', 'peaceful', 'pretty', 'fabulous', 'tasteful', 'tasty', 'interesting', 'comfy', 'fantastic', 'delicious', \n",
    "'huge', 'potential', 'spacious', 'fashionable', 'trendy', 'reasonable', 'impress', 'impressive', 'delightful', 'stylish', 'polite', 'luxury',\n",
    "'convenient', 'professional', 'modern'\n",
    "    \n",
    "] #hard encoding good reviews words list"
   ]
  },
  {
   "cell_type": "code",
   "execution_count": 63,
   "id": "v7dmEAK82tUt",
   "metadata": {
    "id": "v7dmEAK82tUt"
   },
   "outputs": [
    {
     "ename": "SyntaxError",
     "evalue": "EOL while scanning string literal (Temp/ipykernel_11504/798200577.py, line 20)",
     "output_type": "error",
     "traceback": [
      "\u001b[1;36m  File \u001b[1;32m\"C:\\Users\\HP\\AppData\\Local\\Temp/ipykernel_11504/798200577.py\"\u001b[1;36m, line \u001b[1;32m20\u001b[0m\n\u001b[1;33m    'no','don\\'t','don\\'t' , 'not happy' , 'issues' ,'issue' , 'doesnt' , 'not' , 'but' ,\"doesn't\" , \"dont like, 'Bad', 'Bad Hotel'\u001b[0m\n\u001b[1;37m                                                                                                                                   ^\u001b[0m\n\u001b[1;31mSyntaxError\u001b[0m\u001b[1;31m:\u001b[0m EOL while scanning string literal\n"
     ]
    }
   ],
   "source": [
    "ISSUES_CATEGORIES = {\n",
    "    'room': ['room','window', 'table' ,'mirror','door' ,'lock','key','bed','wifi', 'pillow', 'bed sheet', 'dressing table' ],\n",
    "    'food':['food', 'dish' , 'menu', 'recipe' ,'bread' ,'cooking','drink','fare','meal','meat','snack' ,'fish', 'seafood','foodstuff', 'vegetables', 'spicy', 'fruits', 'liquor', 'tea', 'coffee'],\n",
    "    'kitchen' : ['kitchen','fridge','mixer','knife','cutlery','fork', 'vegetables', 'fruits', 'spices', 'tea maker', 'coffee maker'],\n",
    "    'electrical' : ['electrical' , 'light' , 'lamp', 'fan', 'A/C', 'air conditioner', 'electronic' ,'electricity', 'TV', 'plug','socket','power','powerline','power cord','switch', 'switches', 'breaker'],\n",
    "    'washroom': ['washroom','bath','bathroom','water','toilet','restroom','bathtub','shower','hot water'],\n",
    "    'pool' : ['pool','swimming','water','swim','swimpool', 'swimming pool', 'çhlorine'],\n",
    "    'other' : ['telephone', 'alarm', 'sensor','service', 'price', 'other','others','misc','miscs','miscellaneous','miscellaneouss','music', 'band', 'musical band', 'parking' , 'cinema', 'environment'],\n",
    "    'bar' : ['drinking' , 'drink' , 'wine' , 'bar'],\n",
    "    'night club': ['night club', 'dance', 'dancing floor', 'DJ', 'music'] \n",
    "}\n",
    "\n",
    "#NEGATION_ATTRUIBUITES such as 'not' 'un' 'dis' ...\n",
    "NEGATION_ATTRUIBUITES = [\n",
    "    'not','un','dis' , \n",
    "]\n",
    "\n",
    "#NEGATION_WORDS such as 'no' 'don\\'t' 'don\\'t' ...\n",
    "NEGATION_WORDS = [\n",
    "    'no','don\\'t','don\\'t' , 'not happy' , 'issues' ,'issue' , 'doesnt' , 'not' , 'but' ,\"doesn't\" , \"dont like, 'Bad', 'Bad Hotel'\n",
    "]\n"
   ]
  },
  {
   "cell_type": "code",
   "execution_count": 64,
   "id": "7ece2973",
   "metadata": {},
   "outputs": [],
   "source": [
    "import spacy \n",
    "# Text Preprocessing Pkg\n",
    "from spacy.lang.en.stop_words import STOP_WORDS\n",
    "from string import punctuation\n",
    "# Import Heapq \n",
    "from heapq import nlargest , nsmallest\n",
    "# Build a List of Stopwords\n",
    "stopwords = list(STOP_WORDS)\n",
    "#load the english model\n",
    "nlp = spacy.load('en_core_web_sm')\n",
    "\n",
    "def clean_text(text):\n",
    "    text = text.lower() #Lower words in data\n",
    "    text = spec_chara.sub(' ', text) #REMOVING SPECIAL CHARACTERS  in data\n",
    "    text = ext_sym.sub('', text)#EXTRA SYMBOLS removing\n",
    "    text = ' '.join(text for text in text.split() if text not in st) #using stopwords\n",
    "    return text\n",
    "\n",
    "def flatten_list(list_of_lists):\n",
    "    return [item for sublist in list_of_lists for item in sublist]\n",
    "\n",
    "\n",
    "#this function take issue phrase and category keyword and return the score\n",
    "def get_score_for_issue_by_category(issue , category_keywords):\n",
    "    score = 0\n",
    "    for keyword in list(set(category_keywords)):\n",
    "        if keyword in issue:\n",
    "            score += 1\n",
    "    return score\n",
    "\n",
    "\n",
    "#this function loops throw category issues and get the most scored catgory for each issue\n",
    "def get_most_scored_category(issue):\n",
    "    category_scores = {}\n",
    "    for category in ISSUES_CATEGORIES:\n",
    "        score = get_score_for_issue_by_category(issue, ISSUES_CATEGORIES[category])\n",
    "        category_scores[category] = score if score > 0 else 0\n",
    "    # return the category with the highest score using max function\n",
    "    return max(category_scores, key=category_scores.get)\n",
    "\n",
    "\n",
    "#loop throw the list of issues and for each issue loop throw ISSUES\n",
    "def identity_issues(list_of_issues):\n",
    "    issues = {\n",
    "        category : [] for category in ISSUES_CATEGORIES\n",
    "    }\n",
    "    #loop throw the list of issues and get the most scored category for each issue\n",
    "    for issue in list_of_issues:\n",
    "        most_scored_category = get_most_scored_category(issue)\n",
    "        issues[most_scored_category].append(issue)\n",
    "\n",
    "    return issues\n",
    "\n",
    "\n",
    "# text preprocessing function\n",
    "def text_summarizer(raw_docx):\n",
    "    raw_text = raw_docx\n",
    "    docx = nlp(raw_text)\n",
    "    stopwords = list(STOP_WORDS)\n",
    "    # Build Word Frequency\n",
    "    # word.text is tokenization in spacy\n",
    "    word_frequencies = {}  \n",
    "    for word in docx:  \n",
    "        if word.text not in stopwords:\n",
    "            if word.text not in word_frequencies.keys():\n",
    "                word_frequencies[word.text] = 1\n",
    "            else:\n",
    "                word_frequencies[word.text] += 1\n",
    "\n",
    "    maximum_frequncy = max(word_frequencies.values())\n",
    "\n",
    "    for word in word_frequencies.keys():  \n",
    "        word_frequencies[word] = (word_frequencies[word]/maximum_frequncy)\n",
    "    # Sentence Tokens\n",
    "    sentence_list = [ sentence for sentence in docx.sents ]\n",
    "\n",
    "    # Calculate Sentence Score and Ranking\n",
    "    sentence_scores = {}  \n",
    "    for sent in sentence_list:  \n",
    "        for word in sent:\n",
    "            if word.text.lower() in word_frequencies.keys():\n",
    "                if len(sent.text.split(' ')) < 30:\n",
    "                    if sent not in sentence_scores.keys():\n",
    "                        sentence_scores[sent] = word_frequencies[word.text.lower()]\n",
    "                    else:\n",
    "                        sentence_scores[sent] += word_frequencies[word.text.lower()]\n",
    "\n",
    "    # Find N Largest\n",
    "    summary_sentences = nlargest(10, sentence_scores, key=sentence_scores.get)\n",
    "    final_sentences = [ w.text for w in summary_sentences ]\n",
    "    summary = ' '.join(final_sentences)\n",
    "    \n",
    "    #clear summary to have one space between sentences and words and \\n\n",
    "    summary = summary.replace('\\n', ' ')\n",
    "    summary = summary.replace('\\r', ' ')\n",
    "    summary_list = summary.split(' ')\n",
    "    summary_list = [x for x in summary_list if x != '' and x != ' ']\n",
    "    summary = ' '.join(summary_list)\n",
    "\n",
    "    #split list of sentences to list of words with . or , or ? or ! or : or ;\n",
    "    punctuation = ['.' , ',' , '?' , '!' , ':' , ';']\n",
    "    list_of_issues = []\n",
    "    for char in summary:\n",
    "        if char in punctuation:\n",
    "            list_of_issues.append(summary[:summary.index(char)])\n",
    "            summary = summary[summary.index(char)+1:]\n",
    "\n",
    "    list_of_issues = [clean_text(x) for x in list_of_issues if x != '' and len(x.split(' ')) > 2]\n",
    "\n",
    "    obj = {\n",
    "        \"length\": len(summary),\n",
    "        \"list_of_issues\": list_of_issues,\n",
    "        \"list_of_issues_for_each_category\": identity_issues(list_of_issues)\n",
    "    }\n",
    "    return obj\n"
   ]
  },
  {
   "cell_type": "code",
   "execution_count": 65,
   "id": "dc3c7f1a",
   "metadata": {},
   "outputs": [
    {
     "name": "stderr",
     "output_type": "stream",
     "text": [
      "[nltk_data] Downloading package punkt to\n",
      "[nltk_data]     C:\\Users\\HP\\AppData\\Roaming\\nltk_data...\n",
      "[nltk_data]   Package punkt is already up-to-date!\n",
      "[nltk_data] Downloading package stopwords to\n",
      "[nltk_data]     C:\\Users\\HP\\AppData\\Roaming\\nltk_data...\n",
      "[nltk_data]   Package stopwords is already up-to-date!\n",
      "[nltk_data] Downloading package averaged_perceptron_tagger to\n",
      "[nltk_data]     C:\\Users\\HP\\AppData\\Roaming\\nltk_data...\n",
      "[nltk_data]   Package averaged_perceptron_tagger is already up-to-\n",
      "[nltk_data]       date!\n",
      "[nltk_data] Downloading package wordnet to\n",
      "[nltk_data]     C:\\Users\\HP\\AppData\\Roaming\\nltk_data...\n",
      "[nltk_data]   Package wordnet is already up-to-date!\n"
     ]
    }
   ],
   "source": [
    "nltk.download('punkt')\n",
    "nltk.download('stopwords')\n",
    "nltk.download('averaged_perceptron_tagger')\n",
    "nltk.download('wordnet')\n",
    "\n",
    "\n",
    "def clean(words): #Data cleaning function\n",
    "    words = words.lower() #Lower words in data\n",
    "    words = spec_chara.sub(' ', words) #REMOVING SPECIAL CHARACTERS  in data\n",
    "    words = ext_sym.sub('', words)#EXTRA SYMBOLS removing\n",
    "    words = ' '.join(word for word in words.split() if word not in st) #using stopwords\n",
    "    return words"
   ]
  },
  {
   "cell_type": "code",
   "execution_count": 66,
   "id": "tDddo_lZ8D1U",
   "metadata": {
    "id": "tDddo_lZ8D1U"
   },
   "outputs": [],
   "source": [
    "def predict(data):\n",
    "    if any(word in data for word in NEGATION_WORDS): #encoding list for bad reviews\n",
    "        print('Bad Review')\n",
    "        text = text_summarizer(data)\n",
    "        print(text) \n",
    "    elif any(word in data for word in GOOD_WORDS):#encoding list for good reviews\n",
    "        print([data])\n",
    "        print('Good Review')\n",
    "    else:\n",
    "        clean(data) #cleaning data\n",
    "        voc_size=10000 #define vocab size\n",
    "        embedded_sentences=[one_hot(data,voc_size)] #onehot encoding all words giving different numbers\n",
    "        embedded_docs=pad_sequences(embedded_sentences,padding='pre',maxlen=381) #prepadding\n",
    "        probability = model.predict(embedded_docs) #predicting model\n",
    "        #print(probability)\n",
    "        if probability >= 0.5:\n",
    "            text = text_summarizer(data)\n",
    "            print(text)\n",
    "            print('Bad Review')\n",
    "        else:\n",
    "            print([data])\n",
    "            print('Good Review')"
   ]
  },
  {
   "cell_type": "code",
   "execution_count": 67,
   "id": "PZCsjDJJ8D32",
   "metadata": {
    "colab": {
     "base_uri": "https://localhost:8080/"
    },
    "id": "PZCsjDJJ8D32",
    "outputId": "e88417a1-4bb4-483b-ea8c-8e322e0c2cb2"
   },
   "outputs": [
    {
     "name": "stdout",
     "output_type": "stream",
     "text": [
      "['I love this place this place is wonderful']\n",
      "Good Review\n"
     ]
    }
   ],
   "source": [
    "predict('I love this place this place is wonderful')"
   ]
  },
  {
   "cell_type": "code",
   "execution_count": 51,
   "id": "fc63df3a",
   "metadata": {
    "colab": {
     "base_uri": "https://localhost:8080/"
    },
    "id": "fc63df3a",
    "outputId": "329ceeab-cfa8-4f34-98d8-b1008a5491e9"
   },
   "outputs": [
    {
     "name": "stdout",
     "output_type": "stream",
     "text": [
      "['i love this hotel']\n",
      "Good Review\n"
     ]
    }
   ],
   "source": [
    "predict('i love this hotel')"
   ]
  },
  {
   "cell_type": "code",
   "execution_count": 52,
   "id": "4515a67c",
   "metadata": {
    "colab": {
     "base_uri": "https://localhost:8080/"
    },
    "id": "4515a67c",
    "outputId": "44be90d2-69bb-442d-9e50-ff2af93e2d68"
   },
   "outputs": [
    {
     "name": "stdout",
     "output_type": "stream",
     "text": [
      "['room is very clean']\n",
      "Good Review\n"
     ]
    }
   ],
   "source": [
    "predict('room is very clean')"
   ]
  },
  {
   "cell_type": "code",
   "execution_count": 53,
   "id": "3a6edf00",
   "metadata": {},
   "outputs": [
    {
     "name": "stdout",
     "output_type": "stream",
     "text": [
      "Bad Review\n",
      "{'length': 0, 'list_of_issues': ['room quite smelly well roomboys service terrible', 'talking hotel room table lamp broken', 'two issues surprised could work make hotel perfect', 'price bit high compared hotels area', 'food tasty bad food', 'environment hotel really cool', 'huge parking space also available really good', 'therewas cold water bathroom', 'also enough space luggage keep belongings', 'swimming pool pretty large really like'], 'list_of_issues_for_each_category': {'room': ['room quite smelly well roomboys service terrible', 'talking hotel room table lamp broken', 'two issues surprised could work make hotel perfect', 'also enough space luggage keep belongings'], 'food': ['food tasty bad food'], 'kitchen': [], 'electrical': [], 'washroom': ['therewas cold water bathroom'], 'pool': ['swimming pool pretty large really like'], 'other': ['price bit high compared hotels area', 'environment hotel really cool', 'huge parking space also available really good'], 'bar': [], 'night club': []}}\n"
     ]
    }
   ],
   "source": [
    "predict('The environment of the hotel was really cool. But when talking about the hotel in our room the table lamp was broken. The room is quite smelly as well and room-boys service was terrible. And therewas only cold water in bathroom. There was also no enough space in luggage to keep our belongings. The price is a bit high when compared to other hotels in the area. But the Swimming pool is pretty large and I really like that. Huge parking space is also available which is really good. There were two issues which surprised me that could work to make the hotel perfect. One is that WIFI connection was weak sometimes. And the other is the food as its not tasty bad food. I don’t expect to come back again.')"
   ]
  },
  {
   "cell_type": "code",
   "execution_count": 54,
   "id": "5d4c4f2a",
   "metadata": {},
   "outputs": [
    {
     "name": "stdout",
     "output_type": "stream",
     "text": [
      "Bad Review\n",
      "{'length': 23, 'list_of_issues': ['place good room small', 'dont like place'], 'list_of_issues_for_each_category': {'room': ['place good room small', 'dont like place'], 'food': [], 'kitchen': [], 'electrical': [], 'washroom': [], 'pool': [], 'other': [], 'bar': [], 'night club': []}}\n"
     ]
    }
   ],
   "source": [
    "predict('This place is not good room are small. I dont like this place. night club is not good')"
   ]
  },
  {
   "cell_type": "markdown",
   "id": "03efa7f8",
   "metadata": {},
   "source": [
    "# Single Data Prediction"
   ]
  },
  {
   "cell_type": "code",
   "execution_count": 55,
   "id": "8294d4cd",
   "metadata": {},
   "outputs": [
    {
     "ename": "AttributeError",
     "evalue": "'DataFrame' object has no attribute 'review'",
     "output_type": "error",
     "traceback": [
      "\u001b[1;31m---------------------------------------------------------------------------\u001b[0m",
      "\u001b[1;31mAttributeError\u001b[0m                            Traceback (most recent call last)",
      "\u001b[1;32m~\\AppData\\Local\\Temp/ipykernel_11504/3580422996.py\u001b[0m in \u001b[0;36m<module>\u001b[1;34m\u001b[0m\n\u001b[1;32m----> 1\u001b[1;33m \u001b[0mdf\u001b[0m\u001b[1;33m.\u001b[0m\u001b[0mreview\u001b[0m\u001b[1;33m[\u001b[0m\u001b[1;36m5\u001b[0m\u001b[1;33m]\u001b[0m\u001b[1;33m\u001b[0m\u001b[1;33m\u001b[0m\u001b[0m\n\u001b[0m",
      "\u001b[1;32mC:\\ProgramData\\Anaconda3\\lib\\site-packages\\pandas\\core\\generic.py\u001b[0m in \u001b[0;36m__getattr__\u001b[1;34m(self, name)\u001b[0m\n\u001b[0;32m   5573\u001b[0m         ):\n\u001b[0;32m   5574\u001b[0m             \u001b[1;32mreturn\u001b[0m \u001b[0mself\u001b[0m\u001b[1;33m[\u001b[0m\u001b[0mname\u001b[0m\u001b[1;33m]\u001b[0m\u001b[1;33m\u001b[0m\u001b[1;33m\u001b[0m\u001b[0m\n\u001b[1;32m-> 5575\u001b[1;33m         \u001b[1;32mreturn\u001b[0m \u001b[0mobject\u001b[0m\u001b[1;33m.\u001b[0m\u001b[0m__getattribute__\u001b[0m\u001b[1;33m(\u001b[0m\u001b[0mself\u001b[0m\u001b[1;33m,\u001b[0m \u001b[0mname\u001b[0m\u001b[1;33m)\u001b[0m\u001b[1;33m\u001b[0m\u001b[1;33m\u001b[0m\u001b[0m\n\u001b[0m\u001b[0;32m   5576\u001b[0m \u001b[1;33m\u001b[0m\u001b[0m\n\u001b[0;32m   5577\u001b[0m     \u001b[1;32mdef\u001b[0m \u001b[0m__setattr__\u001b[0m\u001b[1;33m(\u001b[0m\u001b[0mself\u001b[0m\u001b[1;33m,\u001b[0m \u001b[0mname\u001b[0m\u001b[1;33m:\u001b[0m \u001b[0mstr\u001b[0m\u001b[1;33m,\u001b[0m \u001b[0mvalue\u001b[0m\u001b[1;33m)\u001b[0m \u001b[1;33m->\u001b[0m \u001b[1;32mNone\u001b[0m\u001b[1;33m:\u001b[0m\u001b[1;33m\u001b[0m\u001b[1;33m\u001b[0m\u001b[0m\n",
      "\u001b[1;31mAttributeError\u001b[0m: 'DataFrame' object has no attribute 'review'"
     ]
    }
   ],
   "source": [
    "df.review[5]"
   ]
  },
  {
   "cell_type": "code",
   "execution_count": null,
   "id": "d7a1664d",
   "metadata": {},
   "outputs": [],
   "source": [
    "df.bad_review[5]"
   ]
  },
  {
   "cell_type": "code",
   "execution_count": null,
   "id": "88a543b6",
   "metadata": {},
   "outputs": [],
   "source": [
    "predict('Backyard of the hotel is total mess shouldn t happen in hotel with 4 stars  Good restaurant with modern design great chill out place Great park nearby the hotel and awesome main stairs')"
   ]
  },
  {
   "cell_type": "code",
   "execution_count": null,
   "id": "1c280161",
   "metadata": {},
   "outputs": [],
   "source": [
    "df.review[12]"
   ]
  },
  {
   "cell_type": "code",
   "execution_count": null,
   "id": "86fc7236",
   "metadata": {},
   "outputs": [],
   "source": [
    "df.bad_review[12]"
   ]
  },
  {
   "cell_type": "code",
   "execution_count": null,
   "id": "8f733d30",
   "metadata": {},
   "outputs": [],
   "source": [
    "predict('The floor in my room was filfy dirty Very basic rooms I had a 20yr old tv in my room Fridge did not work Overpriced breakfast, Comfy bed good location')"
   ]
  },
  {
   "cell_type": "code",
   "execution_count": null,
   "id": "efd577af",
   "metadata": {},
   "outputs": [],
   "source": []
  }
 ],
 "metadata": {
  "accelerator": "GPU",
  "colab": {
   "collapsed_sections": [],
   "provenance": []
  },
  "gpuClass": "standard",
  "kernelspec": {
   "display_name": "Python 3 (ipykernel)",
   "language": "python",
   "name": "python3"
  },
  "language_info": {
   "codemirror_mode": {
    "name": "ipython",
    "version": 3
   },
   "file_extension": ".py",
   "mimetype": "text/x-python",
   "name": "python",
   "nbconvert_exporter": "python",
   "pygments_lexer": "ipython3",
   "version": "3.10.6"
  }
 },
 "nbformat": 4,
 "nbformat_minor": 5
}
