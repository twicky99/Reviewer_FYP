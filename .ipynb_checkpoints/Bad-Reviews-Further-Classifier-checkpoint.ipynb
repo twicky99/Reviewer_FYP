{
 "cells": [
  {
   "cell_type": "code",
   "execution_count": 1,
   "id": "14648631",
   "metadata": {},
   "outputs": [],
   "source": [
    "import pandas as pd\n",
    "import numpy as np\n",
    "import seaborn as sns\n",
    "import matplotlib.pyplot as plt\n",
    "from sklearn.linear_model import LogisticRegression\n",
    "from sklearn.tree import DecisionTreeClassifier\n",
    "from sklearn.neighbors import KNeighborsClassifier\n",
    "from sklearn.naive_bayes import MultinomialNB\n",
    "from sklearn.feature_extraction.text import TfidfVectorizer\n",
    "from sklearn.model_selection import train_test_split\n",
    "from sklearn.pipeline import Pipeline\n",
    "from sklearn.metrics import accuracy_score,classification_report,confusion_matrix,plot_confusion_matrix, roc_curve\n",
    "from nltk.stem.porter import PorterStemmer\n",
    "import re\n",
    "import string\n",
    "from nltk.corpus import stopwords\n",
    "import warnings\n",
    "warnings.filterwarnings(\"ignore\")"
   ]
  },
  {
   "cell_type": "code",
   "execution_count": 2,
   "id": "70a50f00",
   "metadata": {},
   "outputs": [],
   "source": [
    "df = pd.read_csv(\"data.csv\") #importing data"
   ]
  },
  {
   "cell_type": "markdown",
   "id": "fd7356bf",
   "metadata": {},
   "source": [
    "Using Data which contain only bad reviews"
   ]
  },
  {
   "cell_type": "code",
   "execution_count": 3,
   "id": "df3c0d32",
   "metadata": {},
   "outputs": [
    {
     "data": {
      "text/html": [
       "<div>\n",
       "<style scoped>\n",
       "    .dataframe tbody tr th:only-of-type {\n",
       "        vertical-align: middle;\n",
       "    }\n",
       "\n",
       "    .dataframe tbody tr th {\n",
       "        vertical-align: top;\n",
       "    }\n",
       "\n",
       "    .dataframe thead th {\n",
       "        text-align: right;\n",
       "    }\n",
       "</style>\n",
       "<table border=\"1\" class=\"dataframe\">\n",
       "  <thead>\n",
       "    <tr style=\"text-align: right;\">\n",
       "      <th></th>\n",
       "      <th>review</th>\n",
       "      <th>bad_review</th>\n",
       "      <th>room</th>\n",
       "      <th>electrical</th>\n",
       "      <th>food</th>\n",
       "      <th>bathroom</th>\n",
       "      <th>kitchen</th>\n",
       "      <th>pool</th>\n",
       "      <th>Other</th>\n",
       "    </tr>\n",
       "  </thead>\n",
       "  <tbody>\n",
       "    <tr>\n",
       "      <th>0</th>\n",
       "      <td>I am so angry that i made this post available...</td>\n",
       "      <td>1</td>\n",
       "      <td>1</td>\n",
       "      <td>0</td>\n",
       "      <td>0</td>\n",
       "      <td>0</td>\n",
       "      <td>0</td>\n",
       "      <td>1</td>\n",
       "      <td>0</td>\n",
       "    </tr>\n",
       "    <tr>\n",
       "      <th>1</th>\n",
       "      <td>My room was dirty and I was afraid to walk ba...</td>\n",
       "      <td>1</td>\n",
       "      <td>1</td>\n",
       "      <td>0</td>\n",
       "      <td>0</td>\n",
       "      <td>1</td>\n",
       "      <td>1</td>\n",
       "      <td>0</td>\n",
       "      <td>0</td>\n",
       "    </tr>\n",
       "    <tr>\n",
       "      <th>2</th>\n",
       "      <td>Cleaner did not change our sheet and duvet ev...</td>\n",
       "      <td>1</td>\n",
       "      <td>1</td>\n",
       "      <td>0</td>\n",
       "      <td>0</td>\n",
       "      <td>0</td>\n",
       "      <td>0</td>\n",
       "      <td>0</td>\n",
       "      <td>0</td>\n",
       "    </tr>\n",
       "    <tr>\n",
       "      <th>3</th>\n",
       "      <td>6 30 AM started big noise workers loading woo...</td>\n",
       "      <td>1</td>\n",
       "      <td>1</td>\n",
       "      <td>0</td>\n",
       "      <td>1</td>\n",
       "      <td>0</td>\n",
       "      <td>0</td>\n",
       "      <td>0</td>\n",
       "      <td>0</td>\n",
       "    </tr>\n",
       "    <tr>\n",
       "      <th>4</th>\n",
       "      <td>The floor in my room was filfy dirty Very bas...</td>\n",
       "      <td>1</td>\n",
       "      <td>1</td>\n",
       "      <td>1</td>\n",
       "      <td>1</td>\n",
       "      <td>0</td>\n",
       "      <td>0</td>\n",
       "      <td>0</td>\n",
       "      <td>0</td>\n",
       "    </tr>\n",
       "  </tbody>\n",
       "</table>\n",
       "</div>"
      ],
      "text/plain": [
       "                                              review  bad_review  room  \\\n",
       "0   I am so angry that i made this post available...           1     1   \n",
       "1   My room was dirty and I was afraid to walk ba...           1     1   \n",
       "2   Cleaner did not change our sheet and duvet ev...           1     1   \n",
       "3   6 30 AM started big noise workers loading woo...           1     1   \n",
       "4   The floor in my room was filfy dirty Very bas...           1     1   \n",
       "\n",
       "   electrical  food  bathroom  kitchen  pool  Other  \n",
       "0           0     0         0        0     1      0  \n",
       "1           0     0         1        1     0      0  \n",
       "2           0     0         0        0     0      0  \n",
       "3           0     1         0        0     0      0  \n",
       "4           1     1         0        0     0      0  "
      ]
     },
     "execution_count": 3,
     "metadata": {},
     "output_type": "execute_result"
    }
   ],
   "source": [
    "df.head()"
   ]
  },
  {
   "cell_type": "code",
   "execution_count": 4,
   "id": "0442a896",
   "metadata": {},
   "outputs": [],
   "source": [
    "#sns.countplot(x='bad_review',data=df)"
   ]
  },
  {
   "cell_type": "markdown",
   "id": "285d9c4e",
   "metadata": {},
   "source": [
    "# Count Visualization of Columns"
   ]
  },
  {
   "cell_type": "code",
   "execution_count": 5,
   "id": "972081d5",
   "metadata": {},
   "outputs": [
    {
     "data": {
      "text/plain": [
       "<AxesSubplot:xlabel='room', ylabel='count'>"
      ]
     },
     "execution_count": 5,
     "metadata": {},
     "output_type": "execute_result"
    },
    {
     "data": {
      "image/png": "[encoded data removed]",
      "text/plain": [
       "<Figure size 432x288 with 1 Axes>"
      ]
     },
     "metadata": {
      "needs_background": "light"
     },
     "output_type": "display_data"
    }
   ],
   "source": [
    "sns.countplot(x='room',data=df) #plot count of room column"
   ]
  },
  {
   "cell_type": "code",
   "execution_count": 6,
   "id": "7d7e00b9",
   "metadata": {},
   "outputs": [
    {
     "data": {
      "text/plain": [
       "<AxesSubplot:xlabel='electrical', ylabel='count'>"
      ]
     },
     "execution_count": 6,
     "metadata": {},
     "output_type": "execute_result"
    },
    {
     "data": {
      "image/png": "[encoded data removed]",
      "text/plain": [
       "<Figure size 432x288 with 1 Axes>"
      ]
     },
     "metadata": {
      "needs_background": "light"
     },
     "output_type": "display_data"
    }
   ],
   "source": [
    "sns.countplot(x='electrical',data=df) #plot count of electrical column"
   ]
  },
  {
   "cell_type": "code",
   "execution_count": 7,
   "id": "c1228f8c",
   "metadata": {},
   "outputs": [
    {
     "data": {
      "text/plain": [
       "<AxesSubplot:xlabel='food', ylabel='count'>"
      ]
     },
     "execution_count": 7,
     "metadata": {},
     "output_type": "execute_result"
    },
    {
     "data": {
      "image/png": "[encoded data removed]",
      "text/plain": [
       "<Figure size 432x288 with 1 Axes>"
      ]
     },
     "metadata": {
      "needs_background": "light"
     },
     "output_type": "display_data"
    }
   ],
   "source": [
    "sns.countplot(x='food',data=df) #plot count of food column"
   ]
  },
  {
   "cell_type": "code",
   "execution_count": 8,
   "id": "84aa2d86",
   "metadata": {},
   "outputs": [
    {
     "data": {
      "text/plain": [
       "<AxesSubplot:xlabel='bathroom', ylabel='count'>"
      ]
     },
     "execution_count": 8,
     "metadata": {},
     "output_type": "execute_result"
    },
    {
     "data": {
      "image/png": "[encoded data removed]",
      "text/plain": [
       "<Figure size 432x288 with 1 Axes>"
      ]
     },
     "metadata": {
      "needs_background": "light"
     },
     "output_type": "display_data"
    }
   ],
   "source": [
    "sns.countplot(x='bathroom',data=df) #plot count of bathroom column"
   ]
  },
  {
   "cell_type": "code",
   "execution_count": 9,
   "id": "4f015903",
   "metadata": {},
   "outputs": [
    {
     "data": {
      "text/plain": [
       "<AxesSubplot:xlabel='Other', ylabel='count'>"
      ]
     },
     "execution_count": 9,
     "metadata": {},
     "output_type": "execute_result"
    },
    {
     "data": {
      "image/png": "[encoded data removed]",
      "text/plain": [
       "<Figure size 432x288 with 1 Axes>"
      ]
     },
     "metadata": {
      "needs_background": "light"
     },
     "output_type": "display_data"
    }
   ],
   "source": [
    "sns.countplot(x='Other',data=df)#plot count of other column"
   ]
  },
  {
   "cell_type": "code",
   "execution_count": 10,
   "id": "c80e0d17",
   "metadata": {},
   "outputs": [
    {
     "name": "stderr",
     "output_type": "stream",
     "text": [
      "[nltk_data] Downloading package punkt to\n",
      "[nltk_data]     C:\\Users\\HP\\AppData\\Roaming\\nltk_data...\n",
      "[nltk_data]   Package punkt is already up-to-date!\n",
      "[nltk_data] Downloading package stopwords to\n",
      "[nltk_data]     C:\\Users\\HP\\AppData\\Roaming\\nltk_data...\n",
      "[nltk_data]   Package stopwords is already up-to-date!\n",
      "[nltk_data] Downloading package averaged_perceptron_tagger to\n",
      "[nltk_data]     C:\\Users\\HP\\AppData\\Roaming\\nltk_data...\n",
      "[nltk_data]   Package averaged_perceptron_tagger is already up-to-\n",
      "[nltk_data]       date!\n",
      "[nltk_data] Downloading package wordnet to\n",
      "[nltk_data]     C:\\Users\\HP\\AppData\\Roaming\\nltk_data...\n",
      "[nltk_data]   Package wordnet is already up-to-date!\n"
     ]
    },
    {
     "data": {
      "text/plain": [
       "True"
      ]
     },
     "execution_count": 10,
     "metadata": {},
     "output_type": "execute_result"
    }
   ],
   "source": [
    "import nltk\n",
    "nltk.download('punkt')\n",
    "nltk.download('stopwords')\n",
    "nltk.download('averaged_perceptron_tagger')\n",
    "nltk.download('wordnet')"
   ]
  },
  {
   "cell_type": "markdown",
   "id": "d5b44a57",
   "metadata": {},
   "source": [
    "# Using NLP same preprocessing  Techique used in ad and Good Reviews"
   ]
  },
  {
   "cell_type": "code",
   "execution_count": 11,
   "id": "bf0e9c9c",
   "metadata": {},
   "outputs": [
    {
     "name": "stdout",
     "output_type": "stream",
     "text": [
      "2733027\n"
     ]
    }
   ],
   "source": [
    "print(df['review'].apply(lambda x: len(x.split(' '))).sum()) # checking how many words present"
   ]
  },
  {
   "cell_type": "code",
   "execution_count": 12,
   "id": "4693efca",
   "metadata": {},
   "outputs": [],
   "source": [
    "\n",
    "special_character_remover = re.compile('[/(){}\\[\\]\\|@,;]') #remove special words\n",
    "extra_symbol_remover = re.compile('[^0-9a-z #+_]') #remove special symbols\n",
    "STOPWORDS = set(stopwords.words('english')) # using stopwords"
   ]
  },
  {
   "cell_type": "code",
   "execution_count": 13,
   "id": "c3bb79d0",
   "metadata": {},
   "outputs": [],
   "source": [
    "def clean(words): #Data cleaning function\n",
    "    words = words.lower()\n",
    "    words = special_character_remover.sub(' ', words)\n",
    "    words = extra_symbol_remover.sub('', words)\n",
    "    words = ' '.join(word for word in words.split() if word not in STOPWORDS)\n",
    "    return words\n",
    "    \n",
    "df['text'] = df['review'].apply(clean) # applying on review column"
   ]
  },
  {
   "cell_type": "markdown",
   "id": "c75442ee",
   "metadata": {},
   "source": [
    "# Vectorizing Text data"
   ]
  },
  {
   "cell_type": "code",
   "execution_count": 14,
   "id": "169e54a1",
   "metadata": {},
   "outputs": [],
   "source": [
    "from sklearn.feature_extraction.text import TfidfVectorizer\n",
    "\n",
    "tfidf = TfidfVectorizer(max_features=3000) #making 3000 features using tfidf"
   ]
  },
  {
   "cell_type": "markdown",
   "id": "666a2c05",
   "metadata": {},
   "source": [
    "# Defining Features and Labels"
   ]
  },
  {
   "cell_type": "code",
   "execution_count": 15,
   "id": "4c7d2c76",
   "metadata": {},
   "outputs": [],
   "source": [
    "x = tfidf.fit_transform(df['text'])"
   ]
  },
  {
   "cell_type": "code",
   "execution_count": 16,
   "id": "decd7566",
   "metadata": {},
   "outputs": [],
   "source": [
    "y = df[['room', 'electrical', 'food', 'bathroom', 'Other', 'pool', 'kitchen']]"
   ]
  },
  {
   "cell_type": "markdown",
   "id": "03e4d5b7",
   "metadata": {},
   "source": [
    "# Train Test Split"
   ]
  },
  {
   "cell_type": "code",
   "execution_count": 17,
   "id": "e3e8673b",
   "metadata": {},
   "outputs": [],
   "source": [
    "from sklearn.model_selection import train_test_split"
   ]
  },
  {
   "cell_type": "code",
   "execution_count": 18,
   "id": "8720ae29",
   "metadata": {},
   "outputs": [],
   "source": [
    "X_train,X_test,y_train,y_test = train_test_split(x,y,test_size=0.3,random_state=2)"
   ]
  },
  {
   "cell_type": "markdown",
   "id": "dc8bf401",
   "metadata": {},
   "source": [
    "# Using MultiOutput Classifier"
   ]
  },
  {
   "cell_type": "code",
   "execution_count": 19,
   "id": "83f57f12",
   "metadata": {},
   "outputs": [],
   "source": [
    "from sklearn.multioutput import MultiOutputClassifier"
   ]
  },
  {
   "cell_type": "code",
   "execution_count": 20,
   "id": "501bfabe",
   "metadata": {},
   "outputs": [],
   "source": [
    "model = MultiOutputClassifier(LogisticRegression()) "
   ]
  },
  {
   "cell_type": "markdown",
   "id": "47bf11f8",
   "metadata": {},
   "source": [
    "# Fine Tunning"
   ]
  },
  {
   "cell_type": "code",
   "execution_count": 21,
   "id": "41fa1767",
   "metadata": {},
   "outputs": [],
   "source": [
    "params = [    \n",
    "    {'estimator__penalty' : ['l1', 'l2', 'elasticnet', 'none'],\n",
    "    'estimator__C' : np.logspace(-4, 4, 20),\n",
    "    'estimator__solver' : ['lbfgs','newton-cg','liblinear','sag','saga'],\n",
    "    'estimator__max_iter' : [100, 1000,2500, 5000]\n",
    "    }\n",
    "] #defining parameters which need to be applied "
   ]
  },
  {
   "cell_type": "code",
   "execution_count": 22,
   "id": "81ace7f4",
   "metadata": {},
   "outputs": [],
   "source": [
    "#from sklearn.model_selection import RandomizedSearchCV, GridSearchCV\n",
    "#clf = GridSearchCV(model, params,cv = 3, scoring='accuracy', n_jobs=1 ) #using gridview search \n",
    "#clf.fit(x, y) #fitting on x and y\n",
    "#print(clf.best_params_) #printnin bets parameters"
   ]
  },
  {
   "cell_type": "markdown",
   "id": "9c7c8e94",
   "metadata": {},
   "source": [
    "# Model Fitting"
   ]
  },
  {
   "cell_type": "code",
   "execution_count": 23,
   "id": "76b2dfe1",
   "metadata": {},
   "outputs": [],
   "source": [
    "model = MultiOutputClassifier(LogisticRegression(solver='liblinear', penalty='l1', C = 1.55, max_iter=10)) #defining model"
   ]
  },
  {
   "cell_type": "code",
   "execution_count": 24,
   "id": "23e3489c",
   "metadata": {},
   "outputs": [],
   "source": [
    "model = model.fit(X_train, y_train) #fitting model"
   ]
  },
  {
   "cell_type": "markdown",
   "id": "935e203c",
   "metadata": {},
   "source": [
    "Checking Model on X test Data set"
   ]
  },
  {
   "cell_type": "code",
   "execution_count": 25,
   "id": "76f90fe5",
   "metadata": {},
   "outputs": [],
   "source": [
    "val = model.predict(X_test) #prediction from model"
   ]
  },
  {
   "cell_type": "code",
   "execution_count": 26,
   "id": "96a8de83",
   "metadata": {},
   "outputs": [
    {
     "name": "stdout",
     "output_type": "stream",
     "text": [
      "[[1 0 0 ... 0 0 0]\n",
      " [0 0 0 ... 1 0 0]\n",
      " [1 0 1 ... 0 0 0]\n",
      " ...\n",
      " [0 0 0 ... 1 0 0]\n",
      " [0 0 1 ... 0 0 0]\n",
      " [1 0 0 ... 0 0 0]]\n"
     ]
    }
   ],
   "source": [
    "print(val)"
   ]
  },
  {
   "cell_type": "markdown",
   "id": "0ae39e17",
   "metadata": {},
   "source": [
    "Checking Accuracy of Model"
   ]
  },
  {
   "cell_type": "code",
   "execution_count": 27,
   "id": "6e183a3b",
   "metadata": {},
   "outputs": [
    {
     "data": {
      "text/plain": [
       "0.9334723275208491"
      ]
     },
     "execution_count": 27,
     "metadata": {},
     "output_type": "execute_result"
    }
   ],
   "source": [
    "accuracy_score(y_test,val) #Accuracy of values model prediction and real one"
   ]
  },
  {
   "cell_type": "code",
   "execution_count": 28,
   "id": "8f63c4bf",
   "metadata": {},
   "outputs": [
    {
     "data": {
      "text/plain": [
       "array([[[ 4896,    58],\n",
       "        [   96, 10778]],\n",
       "\n",
       "       [[14490,    44],\n",
       "        [  174,  1120]],\n",
       "\n",
       "       [[11865,    15],\n",
       "        [   41,  3907]],\n",
       "\n",
       "       [[11747,   108],\n",
       "        [  185,  3788]],\n",
       "\n",
       "       [[12280,   165],\n",
       "        [   81,  3302]],\n",
       "\n",
       "       [[14990,    22],\n",
       "        [   98,   718]],\n",
       "\n",
       "       [[14810,    89],\n",
       "        [  148,   781]]], dtype=int64)"
      ]
     },
     "execution_count": 28,
     "metadata": {},
     "output_type": "execute_result"
    }
   ],
   "source": [
    "from sklearn.metrics import multilabel_confusion_matrix\n",
    "multilabel_confusion_matrix(y_test,val)"
   ]
  },
  {
   "cell_type": "markdown",
   "id": "afa65723",
   "metadata": {},
   "source": [
    "Now we will be using raw data to see prediction"
   ]
  },
  {
   "cell_type": "code",
   "execution_count": 29,
   "id": "e49e687e",
   "metadata": {},
   "outputs": [],
   "source": [
    "ISSUES_CATEGORIES = {\n",
    "    'room': ['room','window', 'table' ,'mirror','door' ,'lock','key','price','bed','wifi','service' , 'pillow' ],\n",
    "    'foods and kitchen':['food', 'dish' , 'recipe' ,'bread' ,'cooking','drink','fare','meal','meat','snack' ,'foodstuff' , 'kitchen' , 'fridge' ,'mixer','knife','frok' , 'vegetables' , 'fruits' ],\n",
    "    'electrical' : ['electrical' , 'light' , 'electronic' ,'electricity','plug','socket','power','powerline','power cord'],\n",
    "    'washroom': ['washroom','bath','bathroom','water','toilet','restroom','bathtub','shower','bathtub','shower',],\n",
    "    'pool' : ['pool','swimming','water','pool','swim','swimpool', 'swimming pool'],\n",
    "    'other' : ['other','others','misc','miscs','miscellaneous','miscellaneouss', 'miscellaneouss' ,'parking' , 'cenima'],\n",
    "    'bar' : ['drinking' , 'drink' , 'wine' , 'bar'],\n",
    "    'night club': ['night club'] \n",
    "}"
   ]
  },
  {
   "cell_type": "code",
   "execution_count": 30,
   "id": "37c863c2",
   "metadata": {},
   "outputs": [],
   "source": [
    "def flatten_list(list_of_lists):\n",
    "    return [item for sublist in list_of_lists for item in sublist]"
   ]
  },
  {
   "cell_type": "code",
   "execution_count": 31,
   "id": "48378783",
   "metadata": {},
   "outputs": [],
   "source": [
    "def clean_text(text):\n",
    "    text = text.lower()\n",
    "    text = re.sub('\\[.*?\\]', '', text)\n",
    "    text = re.sub('[%s]' % re.escape(string.punctuation), '', text)\n",
    "    text = re.sub('\\w*\\d\\w*', '', text)\n",
    "    text = text.replace('\\n', '')\n",
    "    text = text.replace('\\t', '')\n",
    "    text = text.replace('\\r', '')\n",
    "    return text\n",
    "\n",
    "#*split list of sentences to list of words with . or , or ? or ! or : or ;\n",
    "def split_sentences(text):\n",
    "    # text to lowwer\n",
    "    text = text.lower()\n",
    "    punctuation = ['.'  , '?' , '!' ]\n",
    "    statements = []\n",
    "    for char in text:\n",
    "        if char in punctuation:\n",
    "            statements.append(text[:text.index(char)])\n",
    "            text = text[text.index(char)+1:]\n",
    "\n",
    "    return statements if len(statements) > 0 else [text]\n",
    "\n",
    "def get_score_for_issue_by_category(issue , category_keywords):\n",
    "    score = 0\n",
    "    words_founded = []\n",
    "    for keyword in list(set(category_keywords)):\n",
    "        if keyword in issue:\n",
    "            # print(f\"{keyword} founded in {issue}\")\n",
    "            score += 1\n",
    "            words_founded.append(keyword)\n",
    "\n",
    "    return score , words_founded\n",
    "\n",
    "#*this function loops throw category issues and get the most scored catgory for each issue\n",
    "def get_most_scored_category(issue):\n",
    "    category_scores = {}\n",
    "    for category in ISSUES_CATEGORIES:\n",
    "        score , words_founded = get_score_for_issue_by_category(issue, ISSUES_CATEGORIES[category])\n",
    "        category_scores[category] = score\n",
    "    \n",
    "    # return the category with the highest score using max function\n",
    "    category = max(category_scores, key=category_scores.get)\n",
    "    return  category , category_scores[category] , words_founded\n",
    "\n",
    "#*loop throw the list of issues and for each issue loop throw ISSUES\n",
    "def identity_issues(list_of_issues):\n",
    "    issues = {\n",
    "        category : [] for category in ISSUES_CATEGORIES\n",
    "    }\n",
    "    #loop throw the list of issues and get the most scored category for each issue\n",
    "    for issue in list_of_issues:\n",
    "        values = flatten_list(list(issues.values()))\n",
    "        if issue not in values:\n",
    "            most_scored_category , score , words_founded = get_most_scored_category(issue)\n",
    "            # print(f\"{issue} ---> {most_scored_category} with score {score} and words founded {words_founded}\")\n",
    "            #che\n",
    "            if score > 0 :\n",
    "                issues[most_scored_category].append(issue)\n",
    "            else :\n",
    "                issues[\"other\"].append(issue)\n",
    "\n",
    "    return issues\n",
    "def analyse_text(text , model):\n",
    "\n",
    "    text = split_sentences(text)\n",
    "    text = tfidf.transform(text)\n",
    "    result = list(model.predict(text))\n",
    "    print(\"i m here\")\n",
    "    not_happy_occ = 0\n",
    "    happy_occ = 0\n",
    "    list_of_positive_statements = []\n",
    "    list_of_negative_statements = []\n",
    "    #loop throw the list of results and check if the result is happy or not\n",
    "    for i in range(len(result)):\n",
    "        #check if the result[i] is happy\n",
    "        if result[i] == 0:\n",
    "            is_trully_happy = True\n",
    "            #loop NEGATION_WORDS and check if the word is in the text[i]\n",
    "            for word in NEGATION_WORDS:\n",
    "                if word in text[i]:\n",
    "                    not_happy_occ += 1\n",
    "                    list_of_negative_statements.append(clean_text(text[i]))\n",
    "                    is_trully_happy = False\n",
    "                    break\n",
    "            #loop NEGATION_ATTRUIBUITES and check if the word is in the text[i]\n",
    "            for word in NEGATION_ATTRUIBUITES:\n",
    "                if word in text[i]:\n",
    "                    not_happy_occ += 1\n",
    "                    list_of_negative_statements.append(clean_text(text[i]))\n",
    "                    is_trully_happy = False\n",
    "                    break\n",
    "            #if the result[i] is happy and is_trully_happy is True\n",
    "            if is_trully_happy:\n",
    "                list_of_positive_statements.append(clean_text(text[i]))\n",
    "                happy_occ += 1\n",
    "        else:\n",
    "            not_happy_occ += 1\n",
    "            list_of_negative_statements.append(clean_text(text[i]))\n",
    "\n",
    "    # print(text)\n",
    "    print(len(list_of_positive_statements))\n",
    "    print(len(list_of_negative_statements))\n",
    "\n",
    "    is_happy = True if happy_occ > not_happy_occ else False\n",
    "    if is_happy:\n",
    "        return {\n",
    "            \"is_happy\" : is_happy,\n",
    "        }\n",
    "\n",
    "    return {\n",
    "        \"is_happy\" : is_happy,\n",
    "        \"list_of_positive_statements\" : list(set(list_of_positive_statements)),\n",
    "        \"list_of_negative_statements\" : list(set(list_of_negative_statements)),\n",
    "        \"list_of_negative_statements_by_category\" : identity_issues(list(set(list_of_negative_statements))),\n",
    "        }"
   ]
  },
  {
   "cell_type": "code",
   "execution_count": 32,
   "id": "c7fb0517",
   "metadata": {},
   "outputs": [],
   "source": [
    "def analyse(text , model= None):\n",
    "    #run the variables checks\n",
    "    if not model :\n",
    "        return \"Error Model not loded!\"\n",
    "    \n",
    "    if not text :\n",
    "        return \"Empty text\"\n",
    "    \n",
    "    #run the is happy fn and the summarizer\n",
    "    return analyse_text(text , model)"
   ]
  },
  {
   "cell_type": "code",
   "execution_count": 56,
   "id": "ba1f203d",
   "metadata": {},
   "outputs": [],
   "source": [
    "def unique_ngrams(text,ngram_len=5):\n",
    "    tokens = text.split()\n",
    "    ngrams = []\n",
    "    try:\n",
    "        for i in range(0,len(tokens),ngram_len):\n",
    "            ngrams.append(tokens[i:i+ngram_len])\n",
    "            # i+=ngram_len\n",
    "    except e:\n",
    "        pass\n",
    "    # print(ngrams)\n",
    "    return ngrams\n",
    "\n",
    "def pred(data):\n",
    "    in_data = clean(data) #cleaning data \n",
    "    in_data = [data] #intaking data\n",
    "    vector_data = tfidf.transform(in_data) #vectorization of data\n",
    "    prediction = model.predict(vector_data)\n",
    "    ngrams = unique_ngrams(data)\n",
    "    #tags_room = ['room','window', 'table' ,'mirror','door' ,'lock','key','price','bed','wifi','service' , 'pillow']\n",
    "    #tags_food = ['food', 'dish' , 'recipe' ,'bread' ,'cooking','drink','fare','meal','meat','snack']\n",
    "    #tags_kitchen = ['foodstuff' , 'kitchen' , 'fridge' ,'mixer','knife','frok' , 'vegetables' , 'fruits']\n",
    "    #tags_ele = ['electrical' , 'light' , 'electronic' ,'electricity','plug','socket','power','powerline','power cord']\n",
    "    #tags_washroom = ['washroom','bath','bathroom','water','toilet','restroom','bathtub','shower','bathtub','shower']\n",
    "    #tags_pool = ['pool','swimming','water','pool','swim','swimpool', 'swimming pool']\n",
    "    #tags_other = ['other','others','misc','miscs','miscellaneous','miscellaneouss', 'miscellaneouss' ,'parking' , 'cinema']\n",
    "    #tag_dict1 = {tag:[] for tag in tags_room}\n",
    "    #[tag_dict1[tag].append(' '.join(ngram)) for tag in tags_room for ngram in ngrams if tag in ngram]\n",
    "    #tag_dict2 = {tag:[] for tag in  tags_food}\n",
    "    #[tag_dict2[tag].append(' '.join(ngram)) for tag in tags_food for ngram in ngrams if tag in ngram]\n",
    "    #tag_dict3 = {tag:[] for tag in tags_kitchen}\n",
    "    #[tag_dict3[tag].append(' '.join(ngram)) for tag in tags_kitchen for ngram in ngrams if tag in ngram]\n",
    "    #tag_dict4 = {tag:[] for tag in tags_ele}\n",
    "    #[tag_dict4[tag].append(' '.join(ngram)) for tag in tags_ele for ngram in ngrams if tag in ngram]\n",
    "    #tag_dict5 = {tag:[] for tag in tags_washroom}\n",
    "    #[tag_dict5[tag].append(' '.join(ngram)) for tag in tags_washroom for ngram in ngrams if tag in ngram]\n",
    "    #tag_dict6 = {tag:[] for tag in tags_pool}\n",
    "    #[tag_dict6[tag].append(' '.join(ngram)) for tag in tags_pool for ngram in ngrams if tag in ngram]\n",
    "    #tag_dict7 = {tag:[] for tag in tags_other}\n",
    "    #[tag_dict7[tag].append(' '.join(ngram)) for tag in tags_other for ngram in ngrams if tag in ngram]\n",
    "    #print('Room: ',tag_dict1)\n",
    "    #print('Bathroom:',tag_dict5)\n",
    "    #print('food:',tag_dict2)\n",
    "    #print('electricity:',tag_dict4)\n",
    "    #print('kitchen:',tag_dict3)\n",
    "    #print('pool:',tag_dict6)\n",
    "    #print('Other:',tag_dict7)\n",
    "    #model prediction\n",
    "    data = pd.DataFrame(prediction, columns=['room', 'electrical', 'food', 'bathroom', 'Other', 'pool', 'kitchen']) #making dataframe from prediction\n",
    "    return data"
   ]
  },
  {
   "cell_type": "code",
   "execution_count": 57,
   "id": "39ddb2a5",
   "metadata": {},
   "outputs": [
    {
     "data": {
      "text/html": [
       "<div>\n",
       "<style scoped>\n",
       "    .dataframe tbody tr th:only-of-type {\n",
       "        vertical-align: middle;\n",
       "    }\n",
       "\n",
       "    .dataframe tbody tr th {\n",
       "        vertical-align: top;\n",
       "    }\n",
       "\n",
       "    .dataframe thead th {\n",
       "        text-align: right;\n",
       "    }\n",
       "</style>\n",
       "<table border=\"1\" class=\"dataframe\">\n",
       "  <thead>\n",
       "    <tr style=\"text-align: right;\">\n",
       "      <th></th>\n",
       "      <th>room</th>\n",
       "      <th>electrical</th>\n",
       "      <th>food</th>\n",
       "      <th>bathroom</th>\n",
       "      <th>Other</th>\n",
       "      <th>pool</th>\n",
       "      <th>kitchen</th>\n",
       "    </tr>\n",
       "  </thead>\n",
       "  <tbody>\n",
       "    <tr>\n",
       "      <th>0</th>\n",
       "      <td>1</td>\n",
       "      <td>1</td>\n",
       "      <td>1</td>\n",
       "      <td>0</td>\n",
       "      <td>0</td>\n",
       "      <td>1</td>\n",
       "      <td>0</td>\n",
       "    </tr>\n",
       "  </tbody>\n",
       "</table>\n",
       "</div>"
      ],
      "text/plain": [
       "   room  electrical  food  bathroom  Other  pool  kitchen\n",
       "0     1           1     1         0      0     1        0"
      ]
     },
     "execution_count": 57,
     "metadata": {},
     "output_type": "execute_result"
    }
   ],
   "source": [
    "pred('the light has problem, food and room are too expensive, no pool is also present')"
   ]
  },
  {
   "cell_type": "code",
   "execution_count": 58,
   "id": "6a5de49e",
   "metadata": {},
   "outputs": [
    {
     "data": {
      "text/html": [
       "<div>\n",
       "<style scoped>\n",
       "    .dataframe tbody tr th:only-of-type {\n",
       "        vertical-align: middle;\n",
       "    }\n",
       "\n",
       "    .dataframe tbody tr th {\n",
       "        vertical-align: top;\n",
       "    }\n",
       "\n",
       "    .dataframe thead th {\n",
       "        text-align: right;\n",
       "    }\n",
       "</style>\n",
       "<table border=\"1\" class=\"dataframe\">\n",
       "  <thead>\n",
       "    <tr style=\"text-align: right;\">\n",
       "      <th></th>\n",
       "      <th>room</th>\n",
       "      <th>electrical</th>\n",
       "      <th>food</th>\n",
       "      <th>bathroom</th>\n",
       "      <th>Other</th>\n",
       "      <th>pool</th>\n",
       "      <th>kitchen</th>\n",
       "    </tr>\n",
       "  </thead>\n",
       "  <tbody>\n",
       "    <tr>\n",
       "      <th>0</th>\n",
       "      <td>1</td>\n",
       "      <td>0</td>\n",
       "      <td>1</td>\n",
       "      <td>0</td>\n",
       "      <td>0</td>\n",
       "      <td>0</td>\n",
       "      <td>0</td>\n",
       "    </tr>\n",
       "  </tbody>\n",
       "</table>\n",
       "</div>"
      ],
      "text/plain": [
       "   room  electrical  food  bathroom  Other  pool  kitchen\n",
       "0     1           0     1         0      0     0        0"
      ]
     },
     "execution_count": 58,
     "metadata": {},
     "output_type": "execute_result"
    }
   ],
   "source": [
    "pred('This place is not good room are small, i dont like this place it have faults in food too')"
   ]
  },
  {
   "cell_type": "markdown",
   "id": "cca8ece6",
   "metadata": {},
   "source": [
    "# Single Text Prediction"
   ]
  },
  {
   "cell_type": "code",
   "execution_count": 59,
   "id": "2a0b3551",
   "metadata": {},
   "outputs": [
    {
     "data": {
      "text/plain": [
       "' The hotel is under construction which was never mentioned when I booked it or at any point until we arrived there We then wandered around empty half finished corridors looking for the temporary lobby The room was nice but the bathroom is a glass box inside the bedroom it s not in anyway private Showering or using the toilet feels aptly like you are performing in some kinky Amsterdam window there was also a nail sticking up at the entrance of the glass bathroom which I first discovered with my barefoot We woke up to the sound of scaffolding being hammered together and someone drilling concrete Hardly the relaxing break from noisey London that I believed I had booked The pictures are of a hotel looking over a park yet the room looked over an empty courtyard scattered with random bits of scaffolding and debris The first floor corridor smelled like they were having some serious blocked plumbing issue or perhaps another guest was very unwell Their 17 breakfast is really lazily thrown together with cheap products and entirely tasteless honestly not worth it get breakfast somewhere else instead We spent 100 in 3 days on uber because this hotel is over a mile from anything and the novelty of walking around pretty canals ends 20 minutes before this hotel even comes into view They will also take 50 deposit from you in advance for every day you are planning to stay This meant on arrival I suddenly had to pay a further 150 which caused a non sterling transaction charge on my card only to have the full amount refunded when we left minus the bank charges for this pointless but menditory transaction We made the best of it but I really wish they had been open about the current state of the place and I definitely would have stayed somewhere else  Massive bed'"
      ]
     },
     "execution_count": 59,
     "metadata": {},
     "output_type": "execute_result"
    }
   ],
   "source": [
    "df.review[10]"
   ]
  },
  {
   "cell_type": "code",
   "execution_count": 60,
   "id": "303188d4",
   "metadata": {},
   "outputs": [
    {
     "data": {
      "text/plain": [
       "room          1\n",
       "electrical    0\n",
       "food          1\n",
       "bathroom      1\n",
       "kitchen       0\n",
       "pool          0\n",
       "Other         0\n",
       "Name: 10, dtype: object"
      ]
     },
     "execution_count": 60,
     "metadata": {},
     "output_type": "execute_result"
    }
   ],
   "source": [
    "df.iloc[10,2:9]"
   ]
  },
  {
   "cell_type": "code",
   "execution_count": 61,
   "id": "40b7d9a3",
   "metadata": {},
   "outputs": [
    {
     "data": {
      "text/html": [
       "<div>\n",
       "<style scoped>\n",
       "    .dataframe tbody tr th:only-of-type {\n",
       "        vertical-align: middle;\n",
       "    }\n",
       "\n",
       "    .dataframe tbody tr th {\n",
       "        vertical-align: top;\n",
       "    }\n",
       "\n",
       "    .dataframe thead th {\n",
       "        text-align: right;\n",
       "    }\n",
       "</style>\n",
       "<table border=\"1\" class=\"dataframe\">\n",
       "  <thead>\n",
       "    <tr style=\"text-align: right;\">\n",
       "      <th></th>\n",
       "      <th>room</th>\n",
       "      <th>electrical</th>\n",
       "      <th>food</th>\n",
       "      <th>bathroom</th>\n",
       "      <th>Other</th>\n",
       "      <th>pool</th>\n",
       "      <th>kitchen</th>\n",
       "    </tr>\n",
       "  </thead>\n",
       "  <tbody>\n",
       "    <tr>\n",
       "      <th>0</th>\n",
       "      <td>1</td>\n",
       "      <td>0</td>\n",
       "      <td>1</td>\n",
       "      <td>1</td>\n",
       "      <td>0</td>\n",
       "      <td>0</td>\n",
       "      <td>0</td>\n",
       "    </tr>\n",
       "  </tbody>\n",
       "</table>\n",
       "</div>"
      ],
      "text/plain": [
       "   room  electrical  food  bathroom  Other  pool  kitchen\n",
       "0     1           0     1         1      0     0        0"
      ]
     },
     "execution_count": 61,
     "metadata": {},
     "output_type": "execute_result"
    }
   ],
   "source": [
    "pred('The hotel is under construction which was never mentioned when I booked it or at any point until we arrived there We then wandered around empty half finished corridors looking for the temporary lobby The room was nice but the bathroom is a glass box inside the bedroom it s not in anyway private Showering or using the toilet feels aptly like you are performing in some kinky Amsterdam window there was also a nail sticking up at the entrance of the glass bathroom which I first discovered with my barefoot We woke up to the sound of scaffolding being hammered together and someone drilling concrete Hardly the relaxing break from noisey London that I believed I had booked The pictures are of a hotel looking over a park yet the room looked over an empty courtyard scattered with random bits of scaffolding and debris The first floor corridor smelled like they were having some serious blocked plumbing issue or perhaps another guest was very unwell Their 17 breakfast is really lazily thrown together with cheap products and entirely tasteless honestly not worth it get breakfast somewhere else instead We spent 100 in 3 days on uber because this hotel is over a mile from anything and the novelty of walking around pretty canals ends 20 minutes before this hotel even comes into view They will also take 50 deposit from you in advance for every day you are planning to stay This meant on arrival I suddenly had to pay a further 150 which caused a non sterling transaction charge on my card only to have the full amount refunded when we left minus the bank charges for this pointless but menditory transaction We made the best of it but I really wish they had been open about the current state of the place and I definitely would have stayed somewhere else  Massive bed')"
   ]
  },
  {
   "cell_type": "code",
   "execution_count": 62,
   "id": "f88218f1",
   "metadata": {},
   "outputs": [
    {
     "data": {
      "text/plain": [
       "' Maintenance work on facade of hotel no advance warning and some rather inadequate drinks token to make up for it Leaking air con above bed was noisy and was dripping Stained carpet Not very safe feeling a steep staircase to the sleeping area with no barrier from 2 3m high Not much useful information No minibar Understaffed reception long wait  Pretty building interesting rooms '"
      ]
     },
     "execution_count": 62,
     "metadata": {},
     "output_type": "execute_result"
    }
   ],
   "source": [
    "df.review[15]"
   ]
  },
  {
   "cell_type": "code",
   "execution_count": 63,
   "id": "b2a70213",
   "metadata": {},
   "outputs": [
    {
     "data": {
      "text/plain": [
       "room          1\n",
       "electrical    0\n",
       "food          0\n",
       "bathroom      0\n",
       "kitchen       0\n",
       "pool          0\n",
       "Other         0\n",
       "Name: 15, dtype: object"
      ]
     },
     "execution_count": 63,
     "metadata": {},
     "output_type": "execute_result"
    }
   ],
   "source": [
    "df.iloc[15,2:9]"
   ]
  },
  {
   "cell_type": "code",
   "execution_count": 64,
   "id": "c3dc307b",
   "metadata": {},
   "outputs": [
    {
     "data": {
      "text/html": [
       "<div>\n",
       "<style scoped>\n",
       "    .dataframe tbody tr th:only-of-type {\n",
       "        vertical-align: middle;\n",
       "    }\n",
       "\n",
       "    .dataframe tbody tr th {\n",
       "        vertical-align: top;\n",
       "    }\n",
       "\n",
       "    .dataframe thead th {\n",
       "        text-align: right;\n",
       "    }\n",
       "</style>\n",
       "<table border=\"1\" class=\"dataframe\">\n",
       "  <thead>\n",
       "    <tr style=\"text-align: right;\">\n",
       "      <th></th>\n",
       "      <th>room</th>\n",
       "      <th>electrical</th>\n",
       "      <th>food</th>\n",
       "      <th>bathroom</th>\n",
       "      <th>Other</th>\n",
       "      <th>pool</th>\n",
       "      <th>kitchen</th>\n",
       "    </tr>\n",
       "  </thead>\n",
       "  <tbody>\n",
       "    <tr>\n",
       "      <th>0</th>\n",
       "      <td>1</td>\n",
       "      <td>0</td>\n",
       "      <td>0</td>\n",
       "      <td>0</td>\n",
       "      <td>0</td>\n",
       "      <td>0</td>\n",
       "      <td>0</td>\n",
       "    </tr>\n",
       "  </tbody>\n",
       "</table>\n",
       "</div>"
      ],
      "text/plain": [
       "   room  electrical  food  bathroom  Other  pool  kitchen\n",
       "0     1           0     0         0      0     0        0"
      ]
     },
     "execution_count": 64,
     "metadata": {},
     "output_type": "execute_result"
    }
   ],
   "source": [
    "pred('Maintenance work on facade of hotel no advance warning and some rather inadequate drinks token to make up for it Leaking air con above bed was noisy and was dripping Stained carpet Not very safe feeling a steep staircase to the sleeping area with no barrier from 2 3m high Not much useful information No minibar Understaffed reception long wait  Pretty building interesting rooms')"
   ]
  },
  {
   "cell_type": "code",
   "execution_count": 37,
   "id": "2417e53b",
   "metadata": {},
   "outputs": [],
   "source": [
    "import pickle #saving model\n",
    "\n",
    "pickle.dump(tfidf,open('vectorizerBad.pkl','wb'))\n",
    "pickle.dump(model,open('modelBad.pkl','wb'))"
   ]
  },
  {
   "cell_type": "code",
   "execution_count": null,
   "id": "a329c10b",
   "metadata": {},
   "outputs": [],
   "source": []
  }
 ],
 "metadata": {
  "kernelspec": {
   "display_name": "Python 3 (ipykernel)",
   "language": "python",
   "name": "python3"
  },
  "language_info": {
   "codemirror_mode": {
    "name": "ipython",
    "version": 3
   },
   "file_extension": ".py",
   "mimetype": "text/x-python",
   "name": "python",
   "nbconvert_exporter": "python",
   "pygments_lexer": "ipython3",
   "version": "3.10.6"
  }
 },
 "nbformat": 4,
 "nbformat_minor": 5
}
